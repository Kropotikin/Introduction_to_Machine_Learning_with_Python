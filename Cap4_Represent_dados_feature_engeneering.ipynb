{
  "nbformat": 4,
  "nbformat_minor": 0,
  "metadata": {
    "colab": {
      "name": "Cap4_Represent_dados_feature_engeneering.ipynb",
      "provenance": [],
      "collapsed_sections": [],
      "authorship_tag": "ABX9TyO2FnjAx2kBJraPvgcdD3/H",
      "include_colab_link": true
    },
    "kernelspec": {
      "name": "python3",
      "display_name": "Python 3"
    },
    "language_info": {
      "name": "python"
    }
  },
  "cells": [
    {
      "cell_type": "markdown",
      "metadata": {
        "id": "view-in-github",
        "colab_type": "text"
      },
      "source": [
        "<a href=\"https://colab.research.google.com/github/Kropotikin/Introduction_to_Machine_Learning_with_Python/blob/main/Cap4_Represent_dados_feature_engeneering.ipynb\" target=\"_parent\"><img src=\"https://colab.research.google.com/assets/colab-badge.svg\" alt=\"Open In Colab\"/></a>"
      ]
    },
    {
      "cell_type": "markdown",
      "source": [
        "[GitHub](https://github.com/Kropotikin/introduction_to_ml_with_python/blob/master/04-representing-data-feature-engineering.ipynb)"
      ],
      "metadata": {
        "id": "GEK_DRVXBAPH"
      }
    },
    {
      "cell_type": "markdown",
      "source": [
        "#<h1 align = 'right'><font size = +3.5><b>Preparando ambiente</b></font></h1>\n",
        "---"
      ],
      "metadata": {
        "id": "fGFIkoLWBb-n"
      }
    },
    {
      "cell_type": "code",
      "execution_count": 1,
      "metadata": {
        "colab": {
          "base_uri": "https://localhost:8080/"
        },
        "id": "3PT35pqm-HjO",
        "outputId": "be30f1e5-90aa-4bfa-9d62-35fceebb64da"
      },
      "outputs": [
        {
          "output_type": "stream",
          "name": "stdout",
          "text": [
            "Collecting mglearn\n",
            "  Downloading mglearn-0.1.9.tar.gz (540 kB)\n",
            "\u001b[?25l\r\u001b[K     |▋                               | 10 kB 18.5 MB/s eta 0:00:01\r\u001b[K     |█▏                              | 20 kB 20.7 MB/s eta 0:00:01\r\u001b[K     |█▉                              | 30 kB 23.7 MB/s eta 0:00:01\r\u001b[K     |██▍                             | 40 kB 16.9 MB/s eta 0:00:01\r\u001b[K     |███                             | 51 kB 7.4 MB/s eta 0:00:01\r\u001b[K     |███▋                            | 61 kB 8.6 MB/s eta 0:00:01\r\u001b[K     |████▎                           | 71 kB 9.7 MB/s eta 0:00:01\r\u001b[K     |████▉                           | 81 kB 8.3 MB/s eta 0:00:01\r\u001b[K     |█████▌                          | 92 kB 9.1 MB/s eta 0:00:01\r\u001b[K     |██████                          | 102 kB 9.3 MB/s eta 0:00:01\r\u001b[K     |██████▊                         | 112 kB 9.3 MB/s eta 0:00:01\r\u001b[K     |███████▎                        | 122 kB 9.3 MB/s eta 0:00:01\r\u001b[K     |███████▉                        | 133 kB 9.3 MB/s eta 0:00:01\r\u001b[K     |████████▌                       | 143 kB 9.3 MB/s eta 0:00:01\r\u001b[K     |█████████                       | 153 kB 9.3 MB/s eta 0:00:01\r\u001b[K     |█████████▊                      | 163 kB 9.3 MB/s eta 0:00:01\r\u001b[K     |██████████▎                     | 174 kB 9.3 MB/s eta 0:00:01\r\u001b[K     |███████████                     | 184 kB 9.3 MB/s eta 0:00:01\r\u001b[K     |███████████▌                    | 194 kB 9.3 MB/s eta 0:00:01\r\u001b[K     |████████████▏                   | 204 kB 9.3 MB/s eta 0:00:01\r\u001b[K     |████████████▊                   | 215 kB 9.3 MB/s eta 0:00:01\r\u001b[K     |█████████████▍                  | 225 kB 9.3 MB/s eta 0:00:01\r\u001b[K     |██████████████                  | 235 kB 9.3 MB/s eta 0:00:01\r\u001b[K     |██████████████▋                 | 245 kB 9.3 MB/s eta 0:00:01\r\u001b[K     |███████████████▏                | 256 kB 9.3 MB/s eta 0:00:01\r\u001b[K     |███████████████▊                | 266 kB 9.3 MB/s eta 0:00:01\r\u001b[K     |████████████████▍               | 276 kB 9.3 MB/s eta 0:00:01\r\u001b[K     |█████████████████               | 286 kB 9.3 MB/s eta 0:00:01\r\u001b[K     |█████████████████▋              | 296 kB 9.3 MB/s eta 0:00:01\r\u001b[K     |██████████████████▏             | 307 kB 9.3 MB/s eta 0:00:01\r\u001b[K     |██████████████████▉             | 317 kB 9.3 MB/s eta 0:00:01\r\u001b[K     |███████████████████▍            | 327 kB 9.3 MB/s eta 0:00:01\r\u001b[K     |████████████████████            | 337 kB 9.3 MB/s eta 0:00:01\r\u001b[K     |████████████████████▋           | 348 kB 9.3 MB/s eta 0:00:01\r\u001b[K     |█████████████████████▎          | 358 kB 9.3 MB/s eta 0:00:01\r\u001b[K     |█████████████████████▉          | 368 kB 9.3 MB/s eta 0:00:01\r\u001b[K     |██████████████████████▌         | 378 kB 9.3 MB/s eta 0:00:01\r\u001b[K     |███████████████████████         | 389 kB 9.3 MB/s eta 0:00:01\r\u001b[K     |███████████████████████▋        | 399 kB 9.3 MB/s eta 0:00:01\r\u001b[K     |████████████████████████▎       | 409 kB 9.3 MB/s eta 0:00:01\r\u001b[K     |████████████████████████▉       | 419 kB 9.3 MB/s eta 0:00:01\r\u001b[K     |█████████████████████████▌      | 430 kB 9.3 MB/s eta 0:00:01\r\u001b[K     |██████████████████████████      | 440 kB 9.3 MB/s eta 0:00:01\r\u001b[K     |██████████████████████████▊     | 450 kB 9.3 MB/s eta 0:00:01\r\u001b[K     |███████████████████████████▎    | 460 kB 9.3 MB/s eta 0:00:01\r\u001b[K     |████████████████████████████    | 471 kB 9.3 MB/s eta 0:00:01\r\u001b[K     |████████████████████████████▌   | 481 kB 9.3 MB/s eta 0:00:01\r\u001b[K     |█████████████████████████████▏  | 491 kB 9.3 MB/s eta 0:00:01\r\u001b[K     |█████████████████████████████▊  | 501 kB 9.3 MB/s eta 0:00:01\r\u001b[K     |██████████████████████████████▍ | 512 kB 9.3 MB/s eta 0:00:01\r\u001b[K     |███████████████████████████████ | 522 kB 9.3 MB/s eta 0:00:01\r\u001b[K     |███████████████████████████████▌| 532 kB 9.3 MB/s eta 0:00:01\r\u001b[K     |████████████████████████████████| 540 kB 9.3 MB/s \n",
            "\u001b[?25hRequirement already satisfied: numpy in /usr/local/lib/python3.7/dist-packages (from mglearn) (1.21.6)\n",
            "Requirement already satisfied: matplotlib in /usr/local/lib/python3.7/dist-packages (from mglearn) (3.2.2)\n",
            "Requirement already satisfied: scikit-learn in /usr/local/lib/python3.7/dist-packages (from mglearn) (1.0.2)\n",
            "Requirement already satisfied: pandas in /usr/local/lib/python3.7/dist-packages (from mglearn) (1.3.5)\n",
            "Requirement already satisfied: pillow in /usr/local/lib/python3.7/dist-packages (from mglearn) (7.1.2)\n",
            "Requirement already satisfied: cycler in /usr/local/lib/python3.7/dist-packages (from mglearn) (0.11.0)\n",
            "Requirement already satisfied: imageio in /usr/local/lib/python3.7/dist-packages (from mglearn) (2.4.1)\n",
            "Requirement already satisfied: joblib in /usr/local/lib/python3.7/dist-packages (from mglearn) (1.1.0)\n",
            "Requirement already satisfied: kiwisolver>=1.0.1 in /usr/local/lib/python3.7/dist-packages (from matplotlib->mglearn) (1.4.2)\n",
            "Requirement already satisfied: pyparsing!=2.0.4,!=2.1.2,!=2.1.6,>=2.0.1 in /usr/local/lib/python3.7/dist-packages (from matplotlib->mglearn) (3.0.9)\n",
            "Requirement already satisfied: python-dateutil>=2.1 in /usr/local/lib/python3.7/dist-packages (from matplotlib->mglearn) (2.8.2)\n",
            "Requirement already satisfied: typing-extensions in /usr/local/lib/python3.7/dist-packages (from kiwisolver>=1.0.1->matplotlib->mglearn) (4.2.0)\n",
            "Requirement already satisfied: six>=1.5 in /usr/local/lib/python3.7/dist-packages (from python-dateutil>=2.1->matplotlib->mglearn) (1.15.0)\n",
            "Requirement already satisfied: pytz>=2017.3 in /usr/local/lib/python3.7/dist-packages (from pandas->mglearn) (2022.1)\n",
            "Requirement already satisfied: threadpoolctl>=2.0.0 in /usr/local/lib/python3.7/dist-packages (from scikit-learn->mglearn) (3.1.0)\n",
            "Requirement already satisfied: scipy>=1.1.0 in /usr/local/lib/python3.7/dist-packages (from scikit-learn->mglearn) (1.4.1)\n",
            "Building wheels for collected packages: mglearn\n",
            "  Building wheel for mglearn (setup.py) ... \u001b[?25l\u001b[?25hdone\n",
            "  Created wheel for mglearn: filename=mglearn-0.1.9-py2.py3-none-any.whl size=582639 sha256=9c03c9ac603c85a14048da0e3550a9527ed45bd4b213edf2d37e39a2dec90b46\n",
            "  Stored in directory: /root/.cache/pip/wheels/f1/17/e1/1720d6dcd70187b6b6c3750cb3508798f2b1d57c9d3214b08b\n",
            "Successfully built mglearn\n",
            "Installing collected packages: mglearn\n",
            "Successfully installed mglearn-0.1.9\n"
          ]
        }
      ],
      "source": [
        "!pip install mglearn"
      ]
    },
    {
      "cell_type": "code",
      "source": [
        "import sys\n",
        "print(f\"Python version: {sys.version}\")\n",
        "import pandas as pd\n",
        "print(f\"Pandas version: {pd.__version__}\")\n",
        "import numpy as np\n",
        "print(f\"Numpy version: {np.__version__}\")\n",
        "import matplotlib\n",
        "print(f\"Matplotlib version: {matplotlib.__version__}\")\n",
        "import matplotlib.pyplot as plt\n",
        "import mglearn\n",
        "print(f\"Mglearn version: {mglearn.__version__}\")\n",
        "import scipy as sp\n",
        "print(f\"Scipy version: {sp.__version__}\")\n",
        "import sklearn\n",
        "print(f\"Sklearn version: {sklearn.__version__}\")"
      ],
      "metadata": {
        "colab": {
          "base_uri": "https://localhost:8080/"
        },
        "id": "9AibPcO1CBt0",
        "outputId": "4a2f9200-42a5-4798-81ef-8ca270e51ebf"
      },
      "execution_count": 2,
      "outputs": [
        {
          "output_type": "stream",
          "name": "stdout",
          "text": [
            "Python version: 3.7.13 (default, Apr 24 2022, 01:04:09) \n",
            "[GCC 7.5.0]\n",
            "Pandas version: 1.3.5\n",
            "Numpy version: 1.21.6\n",
            "Matplotlib version: 3.2.2\n",
            "Mglearn version: 0.1.9\n",
            "Scipy version: 1.4.1\n",
            "Sklearn version: 1.0.2\n"
          ]
        }
      ]
    },
    {
      "cell_type": "code",
      "source": [
        "# desativar avisos\n",
        "import warnings\n",
        "warnings.filterwarnings('ignore')"
      ],
      "metadata": {
        "id": "rH4OtO0bCHxM"
      },
      "execution_count": 3,
      "outputs": []
    },
    {
      "cell_type": "code",
      "source": [
        "# habilitar a plotagem no notebook\n",
        "%matplotlib inline\n",
        "#from preamble import *\n",
        "plt.rcParams['image.cmap'] = \"gray\""
      ],
      "metadata": {
        "id": "5oI4dMGJCMP1"
      },
      "execution_count": 4,
      "outputs": []
    },
    {
      "cell_type": "code",
      "source": [
        "# retira notação científica\n",
        "pd.options.display.float_format = '{:.4f}'.format"
      ],
      "metadata": {
        "id": "Mwc-Z6QqCMN9"
      },
      "execution_count": 5,
      "outputs": []
    },
    {
      "cell_type": "markdown",
      "source": [
        "#<h1 align = 'right'><font size = +3.5><b>Representação de dados e Engenharia de Recursos</b></font></h1>\n",
        "---"
      ],
      "metadata": {
        "id": "tvI1FPxc_RUX"
      }
    },
    {
      "cell_type": "markdown",
      "source": [
        "Até agora, assumimos que nossos dados vêm como uma matriz bidimensional de números de ponto flutuante, onde cada coluna é um recurso contínuo que descreve os pontos de dados. Para muitos aplicações, não é assim que os dados são coletados. Um tipo de recurso particularmente comum são os recursos categóricos. Também conhecidos como recursos discretos,\n",
        "estes geralmente não são numéricos. A distinção entre características categóricas e características contínuas é análoga à distinção entre classificação e regressão, apenas no lado da entrada e não no lado da saída. Exemplos de recursos contínuos que vimos são brilhos de pixel e medidas de tamanho de flores de plantas. Exemplos de características categóricas são a marca de um produto, a cor de um produto ou o departamento (livros, roupas, hardware) em que é vendido. Todas essas são propriedades que podem descrever um produto, mas não variam em um maneira contínua. Um produto pertence ao departamento de roupas ou ao departamento de livros. Não há meio solo entre livros e roupas, e nenhuma ordem natural para as diferentes categorias (livros não é maior ou menor que roupas, hardware não é entre livros e roupas, etc.)."
      ],
      "metadata": {
        "id": "-TY8OiekDZI3"
      }
    },
    {
      "cell_type": "markdown",
      "source": [
        "Independentemente dos tipos de recursos em que seus dados consistem, a forma como você os representa pode ter um efeito enorme no desempenho dos modelos de aprendizado de máquina. Vimos nos Capítulos 2 e 3 que o dimensionamento dos dados é importante. Em outras palavras, se você não redimensionar seus dados (digamos, para a variação da unidade), fará diferença se você representa uma medida em centímetros ou polegadas. Também vimos no Capítulo 2 que pode ser útil aumentar seus dados com recursos adicionais, como adicionar interações (produtos) de recursos ou polinômios mais gerais."
      ],
      "metadata": {
        "id": "4hfJYSVyEyvJ"
      }
    },
    {
      "cell_type": "markdown",
      "source": [
        "A questão de como representar melhor seus dados para um aplicativo específico é conhecida como *feature engineering* (engenharia de recursos) e é uma das principais tarefas dos cientistas de dados e praticantes de aprendizado de máquina que tentam resolver problemas do mundo real. Representar seus dados da maneira correta pode ter uma influência maior no desempenho de um modelo supervisionado do que os parâmetros exatos que você escolher."
      ],
      "metadata": {
        "id": "n3xSni23FQ-P"
      }
    },
    {
      "cell_type": "markdown",
      "source": [
        "Neste capítulo, examinaremos primeiro o caso importante e muito comum de recursos categóricos e, em seguida, daremos alguns exemplos de transformações úteis para combinações específicas de recursos e modelos."
      ],
      "metadata": {
        "id": "WjSab2l6FylU"
      }
    },
    {
      "cell_type": "markdown",
      "source": [
        "#**Variáveis ​​categóricas**\n",
        "---"
      ],
      "metadata": {
        "id": "tJXJj8FnNsri"
      }
    },
    {
      "cell_type": "markdown",
      "source": [
        "Como exemplo, usaremos o conjunto de dados de renda de adultos nos Estados Unidos, derivado do banco de dados do censo de 1994. A tarefa do conjunto de dados adulto é prever se um trabalhador tem uma renda superior a US$ 50.000 ou inferior a US$ 50.000. As características neste conjunto de dados incluem a idade dos trabalhadores, como eles são empregados (autônomos, indústria privada\n",
        "funcionário, funcionário do governo, etc.), sua educação, seu gênero, suas horas de trabalho por semana, ocupação e muito mais."
      ],
      "metadata": {
        "id": "SPLNOBhfOE8a"
      }
    },
    {
      "cell_type": "markdown",
      "source": [
        "A tarefa é formulada como uma tarefa de classificação com as duas classes sendo renda <=50k e >50k. Também seria possível prever a renda exata e fazer disso uma tarefa de regressão. No entanto, isso seria muito mais difícil, e a divisão de 50K é interessante de entender por conta própria."
      ],
      "metadata": {
        "id": "6z12FrvMP93O"
      }
    },
    {
      "cell_type": "markdown",
      "source": [
        "Neste conjunto de dados, a idade e as horas por semana são características contínuas, que sabemos como tratar. As características da classe de trabalho, educação, sexo e ocupação são categóricas, no entanto. Todos eles vêm de uma lista fixa de valores possíveis, em oposição a um intervalo, e denotam uma propriedade qualitativa, em oposição a uma quantidade."
      ],
      "metadata": {
        "id": "cHplRL7AQPOY"
      }
    },
    {
      "cell_type": "markdown",
      "source": [
        "Como ponto de partida, digamos que queremos aprender um classificador de regressão logística nesses dados. Sabemos do Capítulo 2 que uma regressão logística faz previsões, ŷ, usando a seguinte fórmula:\n",
        ">ŷ = w[0] * x[0] + w[1] * x[1] + ... + w[p] * x[p] + b > 0\n",
        "\n",
        "onde w[i] e b são os coeficientes aprendidos do conjunto de treinamento e x[i] são os recursos de entrada. Esta fórmula faz sentido quando x[i] são números, mas não quando x[2] é \"Mestres\" ou \"Bacharelados\". Claramente, precisamos representar nossos dados em alguns maneira ao aplicar a regressão logística. A próxima seção explicará como podemos superar este problema."
      ],
      "metadata": {
        "id": "t9lZ_Q_kRTAM"
      }
    },
    {
      "cell_type": "markdown",
      "source": [
        "#**Hot-Encoding (Dummy Variables)**\n",
        "---"
      ],
      "metadata": {
        "id": "3TAVWYZZR7al"
      }
    },
    {
      "cell_type": "markdown",
      "source": [
        "De longe, a maneira mais comum de representar variáveis categóricas é usando a codificação one-hotencoding ou one-out-of-N, também conhecida como variáveis fictícias. A ideia por trás das variáveis fictícias é substituir uma variável categórica por um ou mais novos recursos que podem ter os valores 0 e 1. Os valores 0 e 1 fazem sentido na fórmula para classificação binária linear (e para todos os outros modelos no scikit-learn), e podemos representar qualquer número de categorias introduzindo um novo recurso por categoria, conforme descrito aqui."
      ],
      "metadata": {
        "id": "gfBiUQOeSMuD"
      }
    },
    {
      "cell_type": "markdown",
      "source": [
        "Digamos que para o recurso de classe de trabalho temos valores possíveis de \"Government Employee\", \"Private Employee\", \"Self Employed\" e \"Self Employed Incorporated\". Para codificar esses quatro valores possíveis, criamos quatro novos recursos, chamados de \"Government Employee\", \"Private Employee\", \"Self Employed\", and \"Self Employed Incorporated\". Um recurso é 1 se a classe de trabalho para essa pessoa tiver o valor correspondente e 0 caso contrário, exatamente um dos quatro novos recursos será 1 para cada ponto de dados. É por isso que isso é chamado de codificação one-hot ou one-out-of-N."
      ],
      "metadata": {
        "id": "71O4ivKDSuHv"
      }
    },
    {
      "cell_type": "markdown",
      "source": [
        "Um único recurso é codificado usando quatro novos recursos. Ao usar esses dados em um algoritmo de aprendizado de máquina, descartamos o recurso de classe de trabalho original e mantemos apenas os recursos de 0 a 1."
      ],
      "metadata": {
        "id": "EsqFgKuQUR2D"
      }
    },
    {
      "cell_type": "markdown",
      "source": [
        ">A codificação one-hot que usamos é bastante semelhante, mas não idêntica, à\n",
        "a codificação fictícia usada nas estatísticas. Para simplificar, codificamos\n",
        "cada categoria com um recurso binário diferente. Em estatística, é comum codificar uma característica categórica com k diferentes valores possíveis em k–1 características (a última é representada como todos os zeros). Isso é feito para simplificar a análise (mais tecnicamente, isso evitará tornar a matriz de dados deficiente em classificação)."
      ],
      "metadata": {
        "id": "hQKaijeRUj8L"
      }
    },
    {
      "cell_type": "markdown",
      "source": [
        "Existem duas maneiras de converter seus dados em uma codificação one-hot de variáveis categóricas, usando pandas ou scikit-learn. No momento em que escrevo, usar pandas é um pouco mais fácil, então vamos por esse caminho. Primeiro carregamos os dados usando pandas de um arquivo de valores separados por vírgula (CSV):"
      ],
      "metadata": {
        "id": "7v4JBAG1U-Po"
      }
    },
    {
      "cell_type": "code",
      "source": [
        "import os\n",
        "# O arquivo não tem cabeçalhos nomeando as colunas, então passamos header=None\n",
        "# e forneçemos os nomes das colunas explicitamente em \"names\"\n",
        "adult_path = os.path.join(mglearn.datasets.DATA_PATH, \"adult.data\")\n",
        "data = pd.read_csv(\n",
        "    adult_path, header = None, index_col = False,\n",
        "    names=['age', 'workclass', 'fnlwgt', 'education',  'education-num',\n",
        "           'marital-status', 'occupation', 'relationship', 'race', 'gender',\n",
        "           'capital-gain', 'capital-loss', 'hours-per-week', 'native-country',\n",
        "           'income'])\n",
        "# Para fins de ilustração, selecionamos apenas algumas das colunas\n",
        "data = data[['age', 'workclass', 'education', 'gender', 'hours-per-week',\n",
        "             'occupation', 'income']]\n",
        "# IPython.display permite uma boa formatação de saída no notebook Jupyter\n",
        "display(data.head())"
      ],
      "metadata": {
        "colab": {
          "base_uri": "https://localhost:8080/",
          "height": 206
        },
        "id": "YvsuxqG1Ely-",
        "outputId": "fc1ab575-f7eb-4505-fc77-edd8427abe02"
      },
      "execution_count": 6,
      "outputs": [
        {
          "output_type": "display_data",
          "data": {
            "text/plain": [
              "   age          workclass   education   gender  hours-per-week  \\\n",
              "0   39          State-gov   Bachelors     Male              40   \n",
              "1   50   Self-emp-not-inc   Bachelors     Male              13   \n",
              "2   38            Private     HS-grad     Male              40   \n",
              "3   53            Private        11th     Male              40   \n",
              "4   28            Private   Bachelors   Female              40   \n",
              "\n",
              "           occupation  income  \n",
              "0        Adm-clerical   <=50K  \n",
              "1     Exec-managerial   <=50K  \n",
              "2   Handlers-cleaners   <=50K  \n",
              "3   Handlers-cleaners   <=50K  \n",
              "4      Prof-specialty   <=50K  "
            ],
            "text/html": [
              "\n",
              "  <div id=\"df-0a66e9fd-0429-4b58-b066-cb484768b33c\">\n",
              "    <div class=\"colab-df-container\">\n",
              "      <div>\n",
              "<style scoped>\n",
              "    .dataframe tbody tr th:only-of-type {\n",
              "        vertical-align: middle;\n",
              "    }\n",
              "\n",
              "    .dataframe tbody tr th {\n",
              "        vertical-align: top;\n",
              "    }\n",
              "\n",
              "    .dataframe thead th {\n",
              "        text-align: right;\n",
              "    }\n",
              "</style>\n",
              "<table border=\"1\" class=\"dataframe\">\n",
              "  <thead>\n",
              "    <tr style=\"text-align: right;\">\n",
              "      <th></th>\n",
              "      <th>age</th>\n",
              "      <th>workclass</th>\n",
              "      <th>education</th>\n",
              "      <th>gender</th>\n",
              "      <th>hours-per-week</th>\n",
              "      <th>occupation</th>\n",
              "      <th>income</th>\n",
              "    </tr>\n",
              "  </thead>\n",
              "  <tbody>\n",
              "    <tr>\n",
              "      <th>0</th>\n",
              "      <td>39</td>\n",
              "      <td>State-gov</td>\n",
              "      <td>Bachelors</td>\n",
              "      <td>Male</td>\n",
              "      <td>40</td>\n",
              "      <td>Adm-clerical</td>\n",
              "      <td>&lt;=50K</td>\n",
              "    </tr>\n",
              "    <tr>\n",
              "      <th>1</th>\n",
              "      <td>50</td>\n",
              "      <td>Self-emp-not-inc</td>\n",
              "      <td>Bachelors</td>\n",
              "      <td>Male</td>\n",
              "      <td>13</td>\n",
              "      <td>Exec-managerial</td>\n",
              "      <td>&lt;=50K</td>\n",
              "    </tr>\n",
              "    <tr>\n",
              "      <th>2</th>\n",
              "      <td>38</td>\n",
              "      <td>Private</td>\n",
              "      <td>HS-grad</td>\n",
              "      <td>Male</td>\n",
              "      <td>40</td>\n",
              "      <td>Handlers-cleaners</td>\n",
              "      <td>&lt;=50K</td>\n",
              "    </tr>\n",
              "    <tr>\n",
              "      <th>3</th>\n",
              "      <td>53</td>\n",
              "      <td>Private</td>\n",
              "      <td>11th</td>\n",
              "      <td>Male</td>\n",
              "      <td>40</td>\n",
              "      <td>Handlers-cleaners</td>\n",
              "      <td>&lt;=50K</td>\n",
              "    </tr>\n",
              "    <tr>\n",
              "      <th>4</th>\n",
              "      <td>28</td>\n",
              "      <td>Private</td>\n",
              "      <td>Bachelors</td>\n",
              "      <td>Female</td>\n",
              "      <td>40</td>\n",
              "      <td>Prof-specialty</td>\n",
              "      <td>&lt;=50K</td>\n",
              "    </tr>\n",
              "  </tbody>\n",
              "</table>\n",
              "</div>\n",
              "      <button class=\"colab-df-convert\" onclick=\"convertToInteractive('df-0a66e9fd-0429-4b58-b066-cb484768b33c')\"\n",
              "              title=\"Convert this dataframe to an interactive table.\"\n",
              "              style=\"display:none;\">\n",
              "        \n",
              "  <svg xmlns=\"http://www.w3.org/2000/svg\" height=\"24px\"viewBox=\"0 0 24 24\"\n",
              "       width=\"24px\">\n",
              "    <path d=\"M0 0h24v24H0V0z\" fill=\"none\"/>\n",
              "    <path d=\"M18.56 5.44l.94 2.06.94-2.06 2.06-.94-2.06-.94-.94-2.06-.94 2.06-2.06.94zm-11 1L8.5 8.5l.94-2.06 2.06-.94-2.06-.94L8.5 2.5l-.94 2.06-2.06.94zm10 10l.94 2.06.94-2.06 2.06-.94-2.06-.94-.94-2.06-.94 2.06-2.06.94z\"/><path d=\"M17.41 7.96l-1.37-1.37c-.4-.4-.92-.59-1.43-.59-.52 0-1.04.2-1.43.59L10.3 9.45l-7.72 7.72c-.78.78-.78 2.05 0 2.83L4 21.41c.39.39.9.59 1.41.59.51 0 1.02-.2 1.41-.59l7.78-7.78 2.81-2.81c.8-.78.8-2.07 0-2.86zM5.41 20L4 18.59l7.72-7.72 1.47 1.35L5.41 20z\"/>\n",
              "  </svg>\n",
              "      </button>\n",
              "      \n",
              "  <style>\n",
              "    .colab-df-container {\n",
              "      display:flex;\n",
              "      flex-wrap:wrap;\n",
              "      gap: 12px;\n",
              "    }\n",
              "\n",
              "    .colab-df-convert {\n",
              "      background-color: #E8F0FE;\n",
              "      border: none;\n",
              "      border-radius: 50%;\n",
              "      cursor: pointer;\n",
              "      display: none;\n",
              "      fill: #1967D2;\n",
              "      height: 32px;\n",
              "      padding: 0 0 0 0;\n",
              "      width: 32px;\n",
              "    }\n",
              "\n",
              "    .colab-df-convert:hover {\n",
              "      background-color: #E2EBFA;\n",
              "      box-shadow: 0px 1px 2px rgba(60, 64, 67, 0.3), 0px 1px 3px 1px rgba(60, 64, 67, 0.15);\n",
              "      fill: #174EA6;\n",
              "    }\n",
              "\n",
              "    [theme=dark] .colab-df-convert {\n",
              "      background-color: #3B4455;\n",
              "      fill: #D2E3FC;\n",
              "    }\n",
              "\n",
              "    [theme=dark] .colab-df-convert:hover {\n",
              "      background-color: #434B5C;\n",
              "      box-shadow: 0px 1px 3px 1px rgba(0, 0, 0, 0.15);\n",
              "      filter: drop-shadow(0px 1px 2px rgba(0, 0, 0, 0.3));\n",
              "      fill: #FFFFFF;\n",
              "    }\n",
              "  </style>\n",
              "\n",
              "      <script>\n",
              "        const buttonEl =\n",
              "          document.querySelector('#df-0a66e9fd-0429-4b58-b066-cb484768b33c button.colab-df-convert');\n",
              "        buttonEl.style.display =\n",
              "          google.colab.kernel.accessAllowed ? 'block' : 'none';\n",
              "\n",
              "        async function convertToInteractive(key) {\n",
              "          const element = document.querySelector('#df-0a66e9fd-0429-4b58-b066-cb484768b33c');\n",
              "          const dataTable =\n",
              "            await google.colab.kernel.invokeFunction('convertToInteractive',\n",
              "                                                     [key], {});\n",
              "          if (!dataTable) return;\n",
              "\n",
              "          const docLinkHtml = 'Like what you see? Visit the ' +\n",
              "            '<a target=\"_blank\" href=https://colab.research.google.com/notebooks/data_table.ipynb>data table notebook</a>'\n",
              "            + ' to learn more about interactive tables.';\n",
              "          element.innerHTML = '';\n",
              "          dataTable['output_type'] = 'display_data';\n",
              "          await google.colab.output.renderOutput(dataTable, element);\n",
              "          const docLink = document.createElement('div');\n",
              "          docLink.innerHTML = docLinkHtml;\n",
              "          element.appendChild(docLink);\n",
              "        }\n",
              "      </script>\n",
              "    </div>\n",
              "  </div>\n",
              "  "
            ]
          },
          "metadata": {}
        }
      ]
    },
    {
      "cell_type": "markdown",
      "source": [
        "#**Verificando dados categóricos codificados em string**\n",
        "---"
      ],
      "metadata": {
        "id": "CWyfbANiWiLg"
      }
    },
    {
      "cell_type": "markdown",
      "source": [
        "Depois de ler um conjunto de dados como esse, geralmente é bom verificar primeiro se uma coluna realmente contém dados categóricos significativos. Ao trabalhar com dados que foram inseridos por humanos (digamos, usuários em um site), pode não haver um conjunto fixo de categorias e diferenças na ortografia e capitalização podem exigir pré-processamento. Por exemplo, pode ser que algumas pessoas especifiquem o gênero como “masculino” e outras como “homem”, e talvez queiramos representar essas duas entradas usando a mesma categoria. Uma boa maneira de verificar o conteúdo de uma coluna é usar a função value_counts de uma série pandas (o tipo de uma única coluna em um DataFrame), para nos mostrar quais são os valores exclusivos e com que frequência eles aparecem:"
      ],
      "metadata": {
        "id": "fM8GOHAcWzd7"
      }
    },
    {
      "cell_type": "code",
      "source": [
        "data['gender'].value_counts()"
      ],
      "metadata": {
        "colab": {
          "base_uri": "https://localhost:8080/"
        },
        "id": "QNlDNgvAWL3I",
        "outputId": "0d592eb2-1aaf-4f74-8eee-fc8a2b46235e"
      },
      "execution_count": 7,
      "outputs": [
        {
          "output_type": "execute_result",
          "data": {
            "text/plain": [
              " Male      21790\n",
              " Female    10771\n",
              "Name: gender, dtype: int64"
            ]
          },
          "metadata": {},
          "execution_count": 7
        }
      ]
    },
    {
      "cell_type": "markdown",
      "source": [
        "Podemos ver que existem exatamente dois valores para gênero neste conjunto de dados, Male e Female, o que significa que os dados já estão em um bom formato para serem representados usando a codificação one-hot. Em uma aplicação real, você deve observar todas as colunas e verificar seus valores. Vamos pular isso aqui por uma questão de brevidade."
      ],
      "metadata": {
        "id": "LmTu-tK5Xe40"
      }
    },
    {
      "cell_type": "markdown",
      "source": [
        "Existe uma maneira muito simples de codificar os dados em pandas, usando a função `get_dummies`. A função `get_dummies` transforma automaticamente todas as colunas que possuem tipo de objeto (como strings) ou são categóricas (que é um conceito especial de pandas sobre o qual ainda não falamos):"
      ],
      "metadata": {
        "id": "u2ITVux9X6Wb"
      }
    },
    {
      "cell_type": "code",
      "source": [
        "print(f\"Original features:\\n{list(data.columns)}\\n\")\n",
        "data_dummies = pd.get_dummies(data)\n",
        "print(f\"Features after get_dummies:\\n {list(data_dummies.columns)}\")"
      ],
      "metadata": {
        "colab": {
          "base_uri": "https://localhost:8080/"
        },
        "id": "SFxpofQFXPG7",
        "outputId": "4fddef41-7a81-4eea-c943-7464f0fe75b9"
      },
      "execution_count": 8,
      "outputs": [
        {
          "output_type": "stream",
          "name": "stdout",
          "text": [
            "Original features:\n",
            "['age', 'workclass', 'education', 'gender', 'hours-per-week', 'occupation', 'income']\n",
            "\n",
            "Features after get_dummies:\n",
            " ['age', 'hours-per-week', 'workclass_ ?', 'workclass_ Federal-gov', 'workclass_ Local-gov', 'workclass_ Never-worked', 'workclass_ Private', 'workclass_ Self-emp-inc', 'workclass_ Self-emp-not-inc', 'workclass_ State-gov', 'workclass_ Without-pay', 'education_ 10th', 'education_ 11th', 'education_ 12th', 'education_ 1st-4th', 'education_ 5th-6th', 'education_ 7th-8th', 'education_ 9th', 'education_ Assoc-acdm', 'education_ Assoc-voc', 'education_ Bachelors', 'education_ Doctorate', 'education_ HS-grad', 'education_ Masters', 'education_ Preschool', 'education_ Prof-school', 'education_ Some-college', 'gender_ Female', 'gender_ Male', 'occupation_ ?', 'occupation_ Adm-clerical', 'occupation_ Armed-Forces', 'occupation_ Craft-repair', 'occupation_ Exec-managerial', 'occupation_ Farming-fishing', 'occupation_ Handlers-cleaners', 'occupation_ Machine-op-inspct', 'occupation_ Other-service', 'occupation_ Priv-house-serv', 'occupation_ Prof-specialty', 'occupation_ Protective-serv', 'occupation_ Sales', 'occupation_ Tech-support', 'occupation_ Transport-moving', 'income_ <=50K', 'income_ >50K']\n"
          ]
        }
      ]
    },
    {
      "cell_type": "markdown",
      "source": [
        "Você pode ver que a idade dos recursos contínuos e as horas por semana não foram alteradas, enquanto os recursos categóricos foram expandidos em um novo recurso para cada valor possível:"
      ],
      "metadata": {
        "id": "J8ptWssGZYjo"
      }
    },
    {
      "cell_type": "code",
      "source": [
        "data_dummies.head()"
      ],
      "metadata": {
        "colab": {
          "base_uri": "https://localhost:8080/",
          "height": 334
        },
        "id": "Y8CH98isZCzo",
        "outputId": "b3320aae-ec81-420e-9c21-ffa94a3607a3"
      },
      "execution_count": 9,
      "outputs": [
        {
          "output_type": "execute_result",
          "data": {
            "text/plain": [
              "   age  hours-per-week  workclass_ ?  workclass_ Federal-gov  \\\n",
              "0   39              40             0                       0   \n",
              "1   50              13             0                       0   \n",
              "2   38              40             0                       0   \n",
              "3   53              40             0                       0   \n",
              "4   28              40             0                       0   \n",
              "\n",
              "   workclass_ Local-gov  workclass_ Never-worked  workclass_ Private  \\\n",
              "0                     0                        0                   0   \n",
              "1                     0                        0                   0   \n",
              "2                     0                        0                   1   \n",
              "3                     0                        0                   1   \n",
              "4                     0                        0                   1   \n",
              "\n",
              "   workclass_ Self-emp-inc  workclass_ Self-emp-not-inc  workclass_ State-gov  \\\n",
              "0                        0                            0                     1   \n",
              "1                        0                            1                     0   \n",
              "2                        0                            0                     0   \n",
              "3                        0                            0                     0   \n",
              "4                        0                            0                     0   \n",
              "\n",
              "   ...  occupation_ Machine-op-inspct  occupation_ Other-service  \\\n",
              "0  ...                              0                          0   \n",
              "1  ...                              0                          0   \n",
              "2  ...                              0                          0   \n",
              "3  ...                              0                          0   \n",
              "4  ...                              0                          0   \n",
              "\n",
              "   occupation_ Priv-house-serv  occupation_ Prof-specialty  \\\n",
              "0                            0                           0   \n",
              "1                            0                           0   \n",
              "2                            0                           0   \n",
              "3                            0                           0   \n",
              "4                            0                           1   \n",
              "\n",
              "   occupation_ Protective-serv  occupation_ Sales  occupation_ Tech-support  \\\n",
              "0                            0                  0                         0   \n",
              "1                            0                  0                         0   \n",
              "2                            0                  0                         0   \n",
              "3                            0                  0                         0   \n",
              "4                            0                  0                         0   \n",
              "\n",
              "   occupation_ Transport-moving  income_ <=50K  income_ >50K  \n",
              "0                             0              1             0  \n",
              "1                             0              1             0  \n",
              "2                             0              1             0  \n",
              "3                             0              1             0  \n",
              "4                             0              1             0  \n",
              "\n",
              "[5 rows x 46 columns]"
            ],
            "text/html": [
              "\n",
              "  <div id=\"df-d3c567df-6c41-4ca2-af01-1df0825bdc8c\">\n",
              "    <div class=\"colab-df-container\">\n",
              "      <div>\n",
              "<style scoped>\n",
              "    .dataframe tbody tr th:only-of-type {\n",
              "        vertical-align: middle;\n",
              "    }\n",
              "\n",
              "    .dataframe tbody tr th {\n",
              "        vertical-align: top;\n",
              "    }\n",
              "\n",
              "    .dataframe thead th {\n",
              "        text-align: right;\n",
              "    }\n",
              "</style>\n",
              "<table border=\"1\" class=\"dataframe\">\n",
              "  <thead>\n",
              "    <tr style=\"text-align: right;\">\n",
              "      <th></th>\n",
              "      <th>age</th>\n",
              "      <th>hours-per-week</th>\n",
              "      <th>workclass_ ?</th>\n",
              "      <th>workclass_ Federal-gov</th>\n",
              "      <th>workclass_ Local-gov</th>\n",
              "      <th>workclass_ Never-worked</th>\n",
              "      <th>workclass_ Private</th>\n",
              "      <th>workclass_ Self-emp-inc</th>\n",
              "      <th>workclass_ Self-emp-not-inc</th>\n",
              "      <th>workclass_ State-gov</th>\n",
              "      <th>...</th>\n",
              "      <th>occupation_ Machine-op-inspct</th>\n",
              "      <th>occupation_ Other-service</th>\n",
              "      <th>occupation_ Priv-house-serv</th>\n",
              "      <th>occupation_ Prof-specialty</th>\n",
              "      <th>occupation_ Protective-serv</th>\n",
              "      <th>occupation_ Sales</th>\n",
              "      <th>occupation_ Tech-support</th>\n",
              "      <th>occupation_ Transport-moving</th>\n",
              "      <th>income_ &lt;=50K</th>\n",
              "      <th>income_ &gt;50K</th>\n",
              "    </tr>\n",
              "  </thead>\n",
              "  <tbody>\n",
              "    <tr>\n",
              "      <th>0</th>\n",
              "      <td>39</td>\n",
              "      <td>40</td>\n",
              "      <td>0</td>\n",
              "      <td>0</td>\n",
              "      <td>0</td>\n",
              "      <td>0</td>\n",
              "      <td>0</td>\n",
              "      <td>0</td>\n",
              "      <td>0</td>\n",
              "      <td>1</td>\n",
              "      <td>...</td>\n",
              "      <td>0</td>\n",
              "      <td>0</td>\n",
              "      <td>0</td>\n",
              "      <td>0</td>\n",
              "      <td>0</td>\n",
              "      <td>0</td>\n",
              "      <td>0</td>\n",
              "      <td>0</td>\n",
              "      <td>1</td>\n",
              "      <td>0</td>\n",
              "    </tr>\n",
              "    <tr>\n",
              "      <th>1</th>\n",
              "      <td>50</td>\n",
              "      <td>13</td>\n",
              "      <td>0</td>\n",
              "      <td>0</td>\n",
              "      <td>0</td>\n",
              "      <td>0</td>\n",
              "      <td>0</td>\n",
              "      <td>0</td>\n",
              "      <td>1</td>\n",
              "      <td>0</td>\n",
              "      <td>...</td>\n",
              "      <td>0</td>\n",
              "      <td>0</td>\n",
              "      <td>0</td>\n",
              "      <td>0</td>\n",
              "      <td>0</td>\n",
              "      <td>0</td>\n",
              "      <td>0</td>\n",
              "      <td>0</td>\n",
              "      <td>1</td>\n",
              "      <td>0</td>\n",
              "    </tr>\n",
              "    <tr>\n",
              "      <th>2</th>\n",
              "      <td>38</td>\n",
              "      <td>40</td>\n",
              "      <td>0</td>\n",
              "      <td>0</td>\n",
              "      <td>0</td>\n",
              "      <td>0</td>\n",
              "      <td>1</td>\n",
              "      <td>0</td>\n",
              "      <td>0</td>\n",
              "      <td>0</td>\n",
              "      <td>...</td>\n",
              "      <td>0</td>\n",
              "      <td>0</td>\n",
              "      <td>0</td>\n",
              "      <td>0</td>\n",
              "      <td>0</td>\n",
              "      <td>0</td>\n",
              "      <td>0</td>\n",
              "      <td>0</td>\n",
              "      <td>1</td>\n",
              "      <td>0</td>\n",
              "    </tr>\n",
              "    <tr>\n",
              "      <th>3</th>\n",
              "      <td>53</td>\n",
              "      <td>40</td>\n",
              "      <td>0</td>\n",
              "      <td>0</td>\n",
              "      <td>0</td>\n",
              "      <td>0</td>\n",
              "      <td>1</td>\n",
              "      <td>0</td>\n",
              "      <td>0</td>\n",
              "      <td>0</td>\n",
              "      <td>...</td>\n",
              "      <td>0</td>\n",
              "      <td>0</td>\n",
              "      <td>0</td>\n",
              "      <td>0</td>\n",
              "      <td>0</td>\n",
              "      <td>0</td>\n",
              "      <td>0</td>\n",
              "      <td>0</td>\n",
              "      <td>1</td>\n",
              "      <td>0</td>\n",
              "    </tr>\n",
              "    <tr>\n",
              "      <th>4</th>\n",
              "      <td>28</td>\n",
              "      <td>40</td>\n",
              "      <td>0</td>\n",
              "      <td>0</td>\n",
              "      <td>0</td>\n",
              "      <td>0</td>\n",
              "      <td>1</td>\n",
              "      <td>0</td>\n",
              "      <td>0</td>\n",
              "      <td>0</td>\n",
              "      <td>...</td>\n",
              "      <td>0</td>\n",
              "      <td>0</td>\n",
              "      <td>0</td>\n",
              "      <td>1</td>\n",
              "      <td>0</td>\n",
              "      <td>0</td>\n",
              "      <td>0</td>\n",
              "      <td>0</td>\n",
              "      <td>1</td>\n",
              "      <td>0</td>\n",
              "    </tr>\n",
              "  </tbody>\n",
              "</table>\n",
              "<p>5 rows × 46 columns</p>\n",
              "</div>\n",
              "      <button class=\"colab-df-convert\" onclick=\"convertToInteractive('df-d3c567df-6c41-4ca2-af01-1df0825bdc8c')\"\n",
              "              title=\"Convert this dataframe to an interactive table.\"\n",
              "              style=\"display:none;\">\n",
              "        \n",
              "  <svg xmlns=\"http://www.w3.org/2000/svg\" height=\"24px\"viewBox=\"0 0 24 24\"\n",
              "       width=\"24px\">\n",
              "    <path d=\"M0 0h24v24H0V0z\" fill=\"none\"/>\n",
              "    <path d=\"M18.56 5.44l.94 2.06.94-2.06 2.06-.94-2.06-.94-.94-2.06-.94 2.06-2.06.94zm-11 1L8.5 8.5l.94-2.06 2.06-.94-2.06-.94L8.5 2.5l-.94 2.06-2.06.94zm10 10l.94 2.06.94-2.06 2.06-.94-2.06-.94-.94-2.06-.94 2.06-2.06.94z\"/><path d=\"M17.41 7.96l-1.37-1.37c-.4-.4-.92-.59-1.43-.59-.52 0-1.04.2-1.43.59L10.3 9.45l-7.72 7.72c-.78.78-.78 2.05 0 2.83L4 21.41c.39.39.9.59 1.41.59.51 0 1.02-.2 1.41-.59l7.78-7.78 2.81-2.81c.8-.78.8-2.07 0-2.86zM5.41 20L4 18.59l7.72-7.72 1.47 1.35L5.41 20z\"/>\n",
              "  </svg>\n",
              "      </button>\n",
              "      \n",
              "  <style>\n",
              "    .colab-df-container {\n",
              "      display:flex;\n",
              "      flex-wrap:wrap;\n",
              "      gap: 12px;\n",
              "    }\n",
              "\n",
              "    .colab-df-convert {\n",
              "      background-color: #E8F0FE;\n",
              "      border: none;\n",
              "      border-radius: 50%;\n",
              "      cursor: pointer;\n",
              "      display: none;\n",
              "      fill: #1967D2;\n",
              "      height: 32px;\n",
              "      padding: 0 0 0 0;\n",
              "      width: 32px;\n",
              "    }\n",
              "\n",
              "    .colab-df-convert:hover {\n",
              "      background-color: #E2EBFA;\n",
              "      box-shadow: 0px 1px 2px rgba(60, 64, 67, 0.3), 0px 1px 3px 1px rgba(60, 64, 67, 0.15);\n",
              "      fill: #174EA6;\n",
              "    }\n",
              "\n",
              "    [theme=dark] .colab-df-convert {\n",
              "      background-color: #3B4455;\n",
              "      fill: #D2E3FC;\n",
              "    }\n",
              "\n",
              "    [theme=dark] .colab-df-convert:hover {\n",
              "      background-color: #434B5C;\n",
              "      box-shadow: 0px 1px 3px 1px rgba(0, 0, 0, 0.15);\n",
              "      filter: drop-shadow(0px 1px 2px rgba(0, 0, 0, 0.3));\n",
              "      fill: #FFFFFF;\n",
              "    }\n",
              "  </style>\n",
              "\n",
              "      <script>\n",
              "        const buttonEl =\n",
              "          document.querySelector('#df-d3c567df-6c41-4ca2-af01-1df0825bdc8c button.colab-df-convert');\n",
              "        buttonEl.style.display =\n",
              "          google.colab.kernel.accessAllowed ? 'block' : 'none';\n",
              "\n",
              "        async function convertToInteractive(key) {\n",
              "          const element = document.querySelector('#df-d3c567df-6c41-4ca2-af01-1df0825bdc8c');\n",
              "          const dataTable =\n",
              "            await google.colab.kernel.invokeFunction('convertToInteractive',\n",
              "                                                     [key], {});\n",
              "          if (!dataTable) return;\n",
              "\n",
              "          const docLinkHtml = 'Like what you see? Visit the ' +\n",
              "            '<a target=\"_blank\" href=https://colab.research.google.com/notebooks/data_table.ipynb>data table notebook</a>'\n",
              "            + ' to learn more about interactive tables.';\n",
              "          element.innerHTML = '';\n",
              "          dataTable['output_type'] = 'display_data';\n",
              "          await google.colab.output.renderOutput(dataTable, element);\n",
              "          const docLink = document.createElement('div');\n",
              "          docLink.innerHTML = docLinkHtml;\n",
              "          element.appendChild(docLink);\n",
              "        }\n",
              "      </script>\n",
              "    </div>\n",
              "  </div>\n",
              "  "
            ]
          },
          "metadata": {},
          "execution_count": 9
        }
      ]
    },
    {
      "cell_type": "markdown",
      "source": [
        "Agora podemos usar o atributo values para converter o data_dummies DataFrame em um array NumPy e, em seguida, treinar um modelo de aprendizado de máquina nele. Tenha cuidado para separar a variável de destino (que agora está codificada em duas colunas de renda) dos dados antes de treinar um modelo. Incluindo a variável de saída, ou alguma propriedade derivada de a variável de saída, na representação do recurso é um erro muito comum na construção de modelos de aprendizado de máquina supervisionados."
      ],
      "metadata": {
        "id": "fyL4yB-JZlZf"
      }
    },
    {
      "cell_type": "markdown",
      "source": [
        "---\n",
        "<center>Tenha cuidado: a indexação de coluna em pandas inclui o final do intervalo, portanto, 'age':'occupation_ Transport-moving' inclui ocupação_Transport-moving. Isso é diferente de fatiar um array NumPy, onde o final de um intervalo não é incluído: por exemplo, np.arange(11)[0:10] não inclui a entrada com índice 10.</center>\n",
        "\n",
        "---"
      ],
      "metadata": {
        "id": "zdxAMbsUaDCU"
      }
    },
    {
      "cell_type": "markdown",
      "source": [
        "Nesse caso, extraímos apenas as colunas que contêm recursos, ou seja, todas as colunas de idade a ocupação_ Transporte-movimento. Este intervalo contém todos os recursos, mas não o destino:"
      ],
      "metadata": {
        "id": "2O9Y3EIjabgC"
      }
    },
    {
      "cell_type": "code",
      "source": [
        "features = data_dummies.loc[:, 'age': 'occupation_ Transport-moving']\n",
        "# Extraia matrizes NumPy\n",
        "X = features.values\n",
        "y = data_dummies['income_ >50K'].values\n",
        "print(f\"X.shape: {X.shape}\\ny.shape: {y.shape}\")"
      ],
      "metadata": {
        "colab": {
          "base_uri": "https://localhost:8080/"
        },
        "id": "OoX8I5TDZFME",
        "outputId": "85197131-95f2-4c7a-d8f1-9b24cf007857"
      },
      "execution_count": 10,
      "outputs": [
        {
          "output_type": "stream",
          "name": "stdout",
          "text": [
            "X.shape: (32561, 44)\n",
            "y.shape: (32561,)\n"
          ]
        }
      ]
    },
    {
      "cell_type": "markdown",
      "source": [
        "Agora os dados são representados de uma maneira que o scikit-learn pode trabalhar e podemos proceder como de costume:"
      ],
      "metadata": {
        "id": "Bp9VF-3WdrDY"
      }
    },
    {
      "cell_type": "code",
      "source": [
        "from sklearn.linear_model import LogisticRegression\n",
        "from sklearn.model_selection import train_test_split"
      ],
      "metadata": {
        "id": "WdhtvErjds2L"
      },
      "execution_count": 11,
      "outputs": []
    },
    {
      "cell_type": "code",
      "source": [
        "X_train, X_test, y_train, y_test = train_test_split(X, y, random_state = 0)\n",
        "logreg = LogisticRegression()\n",
        "logreg.fit(X_train, y_train)\n",
        "print(f\"Test score: {logreg.score(X_test, y_test):.2%}\")"
      ],
      "metadata": {
        "colab": {
          "base_uri": "https://localhost:8080/"
        },
        "id": "5KKxmK9ze2gr",
        "outputId": "ad67c055-43e0-4d93-c4ba-4366fb55794c"
      },
      "execution_count": 12,
      "outputs": [
        {
          "output_type": "stream",
          "name": "stdout",
          "text": [
            "Test score: 80.68%\n"
          ]
        }
      ]
    },
    {
      "cell_type": "markdown",
      "source": [
        "---\n",
        "\n",
        "<center>Neste exemplo, chamamos get_dummies em um DataFrame contendo tanto os dados de treinamento quanto os de teste. Isso é importante para garantir que os valores categóricos sejam representados da mesma maneira no conjunto de treinamento e o conjunto de teste. \n",
        "Imagine que temos os conjuntos de treinamento e teste em dois conjuntos de dados diferentes. Se o valor \"Private Employee\" para o recurso work class\n",
        "não aparece no conjunto de teste, o pandas assumirá que existe apenas\n",
        "três valores possíveis para este recurso e criará apenas três novos\n",
        "características fictícias. Agora nossos conjuntos de treinamento e teste têm  vários recursos, e não podemos aplicar o modelo que aprendemos o conjunto de treinamento para o conjunto de teste. Pior ainda, imagine que o recurso work class tem os valores \"Government Employee\" e \"Private Employee\" no conjunto de treinamento, e \"Self Employee\" e \"Self Employed Incorporated\" no conjunto de teste. Em ambos os casos, pandas criará dois novos recursos fictícios, então os dados codificados terão o mesmo número de recursos. No entanto, as duas características fictícias têm significados totalmente diferentes no treinamento e conjuntos de teste. A coluna que significa \"Government Employee\" para o conjunto de treinamento codificaria \"Self Employee\" para o conjunto de teste. Se construíssemos um modelo de aprendizado de máquina com esses dados, funcionaria muito mal, porque assumiria que as colunas significam a mesma coisa (porque elas estão na mesma posição) quando na verdade elas significam coisas muito diferentes. Para corrigir isso, chame get_dummies em  DataFrame que contém os pontos de dados de treinamento e teste, ou certifique-se de que os nomes das colunas sejam os mesmos para o treinamento e conjuntos de teste depois de chamar get_dummies, para garantir que eles tenham a mesma semântica.</center>\n",
        "\n",
        "---"
      ],
      "metadata": {
        "id": "GwR6YbKfgCCz"
      }
    },
    {
      "cell_type": "markdown",
      "source": [
        "#**Os números podem codificar categorias**\n",
        "---"
      ],
      "metadata": {
        "id": "aGie6yI-Ko4a"
      }
    },
    {
      "cell_type": "markdown",
      "source": [
        "No exemplo do conjunto de dados adulto, as variáveis categóricas foram codificadas como strings. Por um lado, isso abre a possibilidade de erros ortográficos, mas, por outro lado, marca claramente uma variável como categórica. Muitas vezes, seja para facilitar o armazenamento ou devido à forma como os dados são coletados, as variáveis categóricas são codificadas como números inteiros. Por exemplo, imagine que os dados do censo no conjunto de dados de adultos foram coletados usando um questionário e as respostas para a classe de trabalho foram registradas como 0 (primeira caixa marcada), 1 (segunda caixa marcada), 2 (terceira caixa marcada) e assim por diante. Agora, a coluna conterá números de 0 a 8, em vez de strings como \"Privado\", e não será imediatamente óbvio para alguém olhando para a tabela que representa o conjunto de dados se eles devem tratar essa variável como contínua ou categórica. Sabendo-se que os números indicam a situação de emprego, no entanto, fica claro que são estados muito distintos e não devem ser modelados por uma única variável contínua."
      ],
      "metadata": {
        "id": "0eb-8dYiLcWr"
      }
    },
    {
      "cell_type": "markdown",
      "source": [
        "---\n",
        "\n",
        "<center>Os recursos categóricos geralmente são codificados usando números inteiros. O fato deles serem números não significa que eles devam necessariamente ser tratados como características contínuas. Nem sempre é claro se um recurso inteiro deve ser tratados como contínuo ou discreto (e one-hotencoded). Se não houver ordenação entre as semânticas em que são codificados (como no exemplo da classe de trabalho), o recurso deve ser tratado como discreto. Para outros casos, como classificações de cinco estrelas, melhor codificação depende da tarefa e dos dados específicos e quais o algoritmo de aprendizado de máquina é usado.</center>\n",
        "\n",
        "---\n",
        "\n",
        "\n"
      ],
      "metadata": {
        "id": "kS8zICnEL9tw"
      }
    },
    {
      "cell_type": "markdown",
      "source": [
        "A função `get_dummies` em pandas trata todos os números como contínuos e não cria variáveis fictícias para eles. Para contornar isso, você pode usar o OneHotEncoder do scikitlearn, para o qual você pode especificar quais variáveis são contínuas e quais são discretas, ou converter colunas numéricas no DataFrame em strings. Para ilustrar, vamos criar um objeto DataFrame com duas colunas, uma contendo strings e outra contendo inteiros:"
      ],
      "metadata": {
        "id": "splG3SWEOzI5"
      }
    },
    {
      "cell_type": "code",
      "source": [
        "# cria um DataFrame com um recurso inteiro e um recurso de string categórica\n",
        "\n",
        "demo_df = pd.DataFrame({'Integer Feature': [0, 1, 2, 1],\n",
        "                        'Categorical Feature': ['socks', 'fox', 'socks', 'box']})\n",
        "\n",
        "demo_df"
      ],
      "metadata": {
        "colab": {
          "base_uri": "https://localhost:8080/",
          "height": 175
        },
        "id": "TBJstjBdL8da",
        "outputId": "63c5dda6-650e-4833-8144-1c3b0e233da8"
      },
      "execution_count": 13,
      "outputs": [
        {
          "output_type": "execute_result",
          "data": {
            "text/plain": [
              "   Integer Feature Categorical Feature\n",
              "0                0               socks\n",
              "1                1                 fox\n",
              "2                2               socks\n",
              "3                1                 box"
            ],
            "text/html": [
              "\n",
              "  <div id=\"df-c4aae002-0cca-4e84-b575-8f43900b8c45\">\n",
              "    <div class=\"colab-df-container\">\n",
              "      <div>\n",
              "<style scoped>\n",
              "    .dataframe tbody tr th:only-of-type {\n",
              "        vertical-align: middle;\n",
              "    }\n",
              "\n",
              "    .dataframe tbody tr th {\n",
              "        vertical-align: top;\n",
              "    }\n",
              "\n",
              "    .dataframe thead th {\n",
              "        text-align: right;\n",
              "    }\n",
              "</style>\n",
              "<table border=\"1\" class=\"dataframe\">\n",
              "  <thead>\n",
              "    <tr style=\"text-align: right;\">\n",
              "      <th></th>\n",
              "      <th>Integer Feature</th>\n",
              "      <th>Categorical Feature</th>\n",
              "    </tr>\n",
              "  </thead>\n",
              "  <tbody>\n",
              "    <tr>\n",
              "      <th>0</th>\n",
              "      <td>0</td>\n",
              "      <td>socks</td>\n",
              "    </tr>\n",
              "    <tr>\n",
              "      <th>1</th>\n",
              "      <td>1</td>\n",
              "      <td>fox</td>\n",
              "    </tr>\n",
              "    <tr>\n",
              "      <th>2</th>\n",
              "      <td>2</td>\n",
              "      <td>socks</td>\n",
              "    </tr>\n",
              "    <tr>\n",
              "      <th>3</th>\n",
              "      <td>1</td>\n",
              "      <td>box</td>\n",
              "    </tr>\n",
              "  </tbody>\n",
              "</table>\n",
              "</div>\n",
              "      <button class=\"colab-df-convert\" onclick=\"convertToInteractive('df-c4aae002-0cca-4e84-b575-8f43900b8c45')\"\n",
              "              title=\"Convert this dataframe to an interactive table.\"\n",
              "              style=\"display:none;\">\n",
              "        \n",
              "  <svg xmlns=\"http://www.w3.org/2000/svg\" height=\"24px\"viewBox=\"0 0 24 24\"\n",
              "       width=\"24px\">\n",
              "    <path d=\"M0 0h24v24H0V0z\" fill=\"none\"/>\n",
              "    <path d=\"M18.56 5.44l.94 2.06.94-2.06 2.06-.94-2.06-.94-.94-2.06-.94 2.06-2.06.94zm-11 1L8.5 8.5l.94-2.06 2.06-.94-2.06-.94L8.5 2.5l-.94 2.06-2.06.94zm10 10l.94 2.06.94-2.06 2.06-.94-2.06-.94-.94-2.06-.94 2.06-2.06.94z\"/><path d=\"M17.41 7.96l-1.37-1.37c-.4-.4-.92-.59-1.43-.59-.52 0-1.04.2-1.43.59L10.3 9.45l-7.72 7.72c-.78.78-.78 2.05 0 2.83L4 21.41c.39.39.9.59 1.41.59.51 0 1.02-.2 1.41-.59l7.78-7.78 2.81-2.81c.8-.78.8-2.07 0-2.86zM5.41 20L4 18.59l7.72-7.72 1.47 1.35L5.41 20z\"/>\n",
              "  </svg>\n",
              "      </button>\n",
              "      \n",
              "  <style>\n",
              "    .colab-df-container {\n",
              "      display:flex;\n",
              "      flex-wrap:wrap;\n",
              "      gap: 12px;\n",
              "    }\n",
              "\n",
              "    .colab-df-convert {\n",
              "      background-color: #E8F0FE;\n",
              "      border: none;\n",
              "      border-radius: 50%;\n",
              "      cursor: pointer;\n",
              "      display: none;\n",
              "      fill: #1967D2;\n",
              "      height: 32px;\n",
              "      padding: 0 0 0 0;\n",
              "      width: 32px;\n",
              "    }\n",
              "\n",
              "    .colab-df-convert:hover {\n",
              "      background-color: #E2EBFA;\n",
              "      box-shadow: 0px 1px 2px rgba(60, 64, 67, 0.3), 0px 1px 3px 1px rgba(60, 64, 67, 0.15);\n",
              "      fill: #174EA6;\n",
              "    }\n",
              "\n",
              "    [theme=dark] .colab-df-convert {\n",
              "      background-color: #3B4455;\n",
              "      fill: #D2E3FC;\n",
              "    }\n",
              "\n",
              "    [theme=dark] .colab-df-convert:hover {\n",
              "      background-color: #434B5C;\n",
              "      box-shadow: 0px 1px 3px 1px rgba(0, 0, 0, 0.15);\n",
              "      filter: drop-shadow(0px 1px 2px rgba(0, 0, 0, 0.3));\n",
              "      fill: #FFFFFF;\n",
              "    }\n",
              "  </style>\n",
              "\n",
              "      <script>\n",
              "        const buttonEl =\n",
              "          document.querySelector('#df-c4aae002-0cca-4e84-b575-8f43900b8c45 button.colab-df-convert');\n",
              "        buttonEl.style.display =\n",
              "          google.colab.kernel.accessAllowed ? 'block' : 'none';\n",
              "\n",
              "        async function convertToInteractive(key) {\n",
              "          const element = document.querySelector('#df-c4aae002-0cca-4e84-b575-8f43900b8c45');\n",
              "          const dataTable =\n",
              "            await google.colab.kernel.invokeFunction('convertToInteractive',\n",
              "                                                     [key], {});\n",
              "          if (!dataTable) return;\n",
              "\n",
              "          const docLinkHtml = 'Like what you see? Visit the ' +\n",
              "            '<a target=\"_blank\" href=https://colab.research.google.com/notebooks/data_table.ipynb>data table notebook</a>'\n",
              "            + ' to learn more about interactive tables.';\n",
              "          element.innerHTML = '';\n",
              "          dataTable['output_type'] = 'display_data';\n",
              "          await google.colab.output.renderOutput(dataTable, element);\n",
              "          const docLink = document.createElement('div');\n",
              "          docLink.innerHTML = docLinkHtml;\n",
              "          element.appendChild(docLink);\n",
              "        }\n",
              "      </script>\n",
              "    </div>\n",
              "  </div>\n",
              "  "
            ]
          },
          "metadata": {},
          "execution_count": 13
        }
      ]
    },
    {
      "cell_type": "markdown",
      "source": [
        "O uso de get_dummies codificará apenas o recurso de string e não alterará o recurso de inteiro, como você pode ver abaixo:"
      ],
      "metadata": {
        "id": "nn4ZmS7wP610"
      }
    },
    {
      "cell_type": "code",
      "source": [
        "pd.get_dummies(demo_df)"
      ],
      "metadata": {
        "colab": {
          "base_uri": "https://localhost:8080/",
          "height": 175
        },
        "id": "umfDgVHqiD8A",
        "outputId": "bf2cc564-1ace-4a99-cf3e-63e141a248b2"
      },
      "execution_count": 14,
      "outputs": [
        {
          "output_type": "execute_result",
          "data": {
            "text/plain": [
              "   Integer Feature  Categorical Feature_box  Categorical Feature_fox  \\\n",
              "0                0                        0                        0   \n",
              "1                1                        0                        1   \n",
              "2                2                        0                        0   \n",
              "3                1                        1                        0   \n",
              "\n",
              "   Categorical Feature_socks  \n",
              "0                          1  \n",
              "1                          0  \n",
              "2                          1  \n",
              "3                          0  "
            ],
            "text/html": [
              "\n",
              "  <div id=\"df-f3ebec53-c63d-4cf8-9375-94579f8854ec\">\n",
              "    <div class=\"colab-df-container\">\n",
              "      <div>\n",
              "<style scoped>\n",
              "    .dataframe tbody tr th:only-of-type {\n",
              "        vertical-align: middle;\n",
              "    }\n",
              "\n",
              "    .dataframe tbody tr th {\n",
              "        vertical-align: top;\n",
              "    }\n",
              "\n",
              "    .dataframe thead th {\n",
              "        text-align: right;\n",
              "    }\n",
              "</style>\n",
              "<table border=\"1\" class=\"dataframe\">\n",
              "  <thead>\n",
              "    <tr style=\"text-align: right;\">\n",
              "      <th></th>\n",
              "      <th>Integer Feature</th>\n",
              "      <th>Categorical Feature_box</th>\n",
              "      <th>Categorical Feature_fox</th>\n",
              "      <th>Categorical Feature_socks</th>\n",
              "    </tr>\n",
              "  </thead>\n",
              "  <tbody>\n",
              "    <tr>\n",
              "      <th>0</th>\n",
              "      <td>0</td>\n",
              "      <td>0</td>\n",
              "      <td>0</td>\n",
              "      <td>1</td>\n",
              "    </tr>\n",
              "    <tr>\n",
              "      <th>1</th>\n",
              "      <td>1</td>\n",
              "      <td>0</td>\n",
              "      <td>1</td>\n",
              "      <td>0</td>\n",
              "    </tr>\n",
              "    <tr>\n",
              "      <th>2</th>\n",
              "      <td>2</td>\n",
              "      <td>0</td>\n",
              "      <td>0</td>\n",
              "      <td>1</td>\n",
              "    </tr>\n",
              "    <tr>\n",
              "      <th>3</th>\n",
              "      <td>1</td>\n",
              "      <td>1</td>\n",
              "      <td>0</td>\n",
              "      <td>0</td>\n",
              "    </tr>\n",
              "  </tbody>\n",
              "</table>\n",
              "</div>\n",
              "      <button class=\"colab-df-convert\" onclick=\"convertToInteractive('df-f3ebec53-c63d-4cf8-9375-94579f8854ec')\"\n",
              "              title=\"Convert this dataframe to an interactive table.\"\n",
              "              style=\"display:none;\">\n",
              "        \n",
              "  <svg xmlns=\"http://www.w3.org/2000/svg\" height=\"24px\"viewBox=\"0 0 24 24\"\n",
              "       width=\"24px\">\n",
              "    <path d=\"M0 0h24v24H0V0z\" fill=\"none\"/>\n",
              "    <path d=\"M18.56 5.44l.94 2.06.94-2.06 2.06-.94-2.06-.94-.94-2.06-.94 2.06-2.06.94zm-11 1L8.5 8.5l.94-2.06 2.06-.94-2.06-.94L8.5 2.5l-.94 2.06-2.06.94zm10 10l.94 2.06.94-2.06 2.06-.94-2.06-.94-.94-2.06-.94 2.06-2.06.94z\"/><path d=\"M17.41 7.96l-1.37-1.37c-.4-.4-.92-.59-1.43-.59-.52 0-1.04.2-1.43.59L10.3 9.45l-7.72 7.72c-.78.78-.78 2.05 0 2.83L4 21.41c.39.39.9.59 1.41.59.51 0 1.02-.2 1.41-.59l7.78-7.78 2.81-2.81c.8-.78.8-2.07 0-2.86zM5.41 20L4 18.59l7.72-7.72 1.47 1.35L5.41 20z\"/>\n",
              "  </svg>\n",
              "      </button>\n",
              "      \n",
              "  <style>\n",
              "    .colab-df-container {\n",
              "      display:flex;\n",
              "      flex-wrap:wrap;\n",
              "      gap: 12px;\n",
              "    }\n",
              "\n",
              "    .colab-df-convert {\n",
              "      background-color: #E8F0FE;\n",
              "      border: none;\n",
              "      border-radius: 50%;\n",
              "      cursor: pointer;\n",
              "      display: none;\n",
              "      fill: #1967D2;\n",
              "      height: 32px;\n",
              "      padding: 0 0 0 0;\n",
              "      width: 32px;\n",
              "    }\n",
              "\n",
              "    .colab-df-convert:hover {\n",
              "      background-color: #E2EBFA;\n",
              "      box-shadow: 0px 1px 2px rgba(60, 64, 67, 0.3), 0px 1px 3px 1px rgba(60, 64, 67, 0.15);\n",
              "      fill: #174EA6;\n",
              "    }\n",
              "\n",
              "    [theme=dark] .colab-df-convert {\n",
              "      background-color: #3B4455;\n",
              "      fill: #D2E3FC;\n",
              "    }\n",
              "\n",
              "    [theme=dark] .colab-df-convert:hover {\n",
              "      background-color: #434B5C;\n",
              "      box-shadow: 0px 1px 3px 1px rgba(0, 0, 0, 0.15);\n",
              "      filter: drop-shadow(0px 1px 2px rgba(0, 0, 0, 0.3));\n",
              "      fill: #FFFFFF;\n",
              "    }\n",
              "  </style>\n",
              "\n",
              "      <script>\n",
              "        const buttonEl =\n",
              "          document.querySelector('#df-f3ebec53-c63d-4cf8-9375-94579f8854ec button.colab-df-convert');\n",
              "        buttonEl.style.display =\n",
              "          google.colab.kernel.accessAllowed ? 'block' : 'none';\n",
              "\n",
              "        async function convertToInteractive(key) {\n",
              "          const element = document.querySelector('#df-f3ebec53-c63d-4cf8-9375-94579f8854ec');\n",
              "          const dataTable =\n",
              "            await google.colab.kernel.invokeFunction('convertToInteractive',\n",
              "                                                     [key], {});\n",
              "          if (!dataTable) return;\n",
              "\n",
              "          const docLinkHtml = 'Like what you see? Visit the ' +\n",
              "            '<a target=\"_blank\" href=https://colab.research.google.com/notebooks/data_table.ipynb>data table notebook</a>'\n",
              "            + ' to learn more about interactive tables.';\n",
              "          element.innerHTML = '';\n",
              "          dataTable['output_type'] = 'display_data';\n",
              "          await google.colab.output.renderOutput(dataTable, element);\n",
              "          const docLink = document.createElement('div');\n",
              "          docLink.innerHTML = docLinkHtml;\n",
              "          element.appendChild(docLink);\n",
              "        }\n",
              "      </script>\n",
              "    </div>\n",
              "  </div>\n",
              "  "
            ]
          },
          "metadata": {},
          "execution_count": 14
        }
      ]
    },
    {
      "cell_type": "markdown",
      "source": [
        "Se você deseja que variáveis fictícias sejam criadas para a coluna “Integer Feature”, você pode listar explicitamente as colunas que deseja codificar usando o parâmetro columns. Em seguida, ambos os recursos serão tratados como categóricos:"
      ],
      "metadata": {
        "id": "QmhBs100QbnG"
      }
    },
    {
      "cell_type": "code",
      "source": [
        "demo_df['Integer Feature'] = demo_df['Integer Feature'].astype(str)\n",
        "pd.get_dummies(demo_df, columns = ['Integer Feature', 'Categorical Feature'])"
      ],
      "metadata": {
        "colab": {
          "base_uri": "https://localhost:8080/",
          "height": 175
        },
        "id": "n5gl5ur5QI49",
        "outputId": "74edd2c2-6ed3-4900-d3f4-07f9810548ae"
      },
      "execution_count": 15,
      "outputs": [
        {
          "output_type": "execute_result",
          "data": {
            "text/plain": [
              "   Integer Feature_0  Integer Feature_1  Integer Feature_2  \\\n",
              "0                  1                  0                  0   \n",
              "1                  0                  1                  0   \n",
              "2                  0                  0                  1   \n",
              "3                  0                  1                  0   \n",
              "\n",
              "   Categorical Feature_box  Categorical Feature_fox  Categorical Feature_socks  \n",
              "0                        0                        0                          1  \n",
              "1                        0                        1                          0  \n",
              "2                        0                        0                          1  \n",
              "3                        1                        0                          0  "
            ],
            "text/html": [
              "\n",
              "  <div id=\"df-d8344b87-ec1f-4e47-940b-75083a8d6f72\">\n",
              "    <div class=\"colab-df-container\">\n",
              "      <div>\n",
              "<style scoped>\n",
              "    .dataframe tbody tr th:only-of-type {\n",
              "        vertical-align: middle;\n",
              "    }\n",
              "\n",
              "    .dataframe tbody tr th {\n",
              "        vertical-align: top;\n",
              "    }\n",
              "\n",
              "    .dataframe thead th {\n",
              "        text-align: right;\n",
              "    }\n",
              "</style>\n",
              "<table border=\"1\" class=\"dataframe\">\n",
              "  <thead>\n",
              "    <tr style=\"text-align: right;\">\n",
              "      <th></th>\n",
              "      <th>Integer Feature_0</th>\n",
              "      <th>Integer Feature_1</th>\n",
              "      <th>Integer Feature_2</th>\n",
              "      <th>Categorical Feature_box</th>\n",
              "      <th>Categorical Feature_fox</th>\n",
              "      <th>Categorical Feature_socks</th>\n",
              "    </tr>\n",
              "  </thead>\n",
              "  <tbody>\n",
              "    <tr>\n",
              "      <th>0</th>\n",
              "      <td>1</td>\n",
              "      <td>0</td>\n",
              "      <td>0</td>\n",
              "      <td>0</td>\n",
              "      <td>0</td>\n",
              "      <td>1</td>\n",
              "    </tr>\n",
              "    <tr>\n",
              "      <th>1</th>\n",
              "      <td>0</td>\n",
              "      <td>1</td>\n",
              "      <td>0</td>\n",
              "      <td>0</td>\n",
              "      <td>1</td>\n",
              "      <td>0</td>\n",
              "    </tr>\n",
              "    <tr>\n",
              "      <th>2</th>\n",
              "      <td>0</td>\n",
              "      <td>0</td>\n",
              "      <td>1</td>\n",
              "      <td>0</td>\n",
              "      <td>0</td>\n",
              "      <td>1</td>\n",
              "    </tr>\n",
              "    <tr>\n",
              "      <th>3</th>\n",
              "      <td>0</td>\n",
              "      <td>1</td>\n",
              "      <td>0</td>\n",
              "      <td>1</td>\n",
              "      <td>0</td>\n",
              "      <td>0</td>\n",
              "    </tr>\n",
              "  </tbody>\n",
              "</table>\n",
              "</div>\n",
              "      <button class=\"colab-df-convert\" onclick=\"convertToInteractive('df-d8344b87-ec1f-4e47-940b-75083a8d6f72')\"\n",
              "              title=\"Convert this dataframe to an interactive table.\"\n",
              "              style=\"display:none;\">\n",
              "        \n",
              "  <svg xmlns=\"http://www.w3.org/2000/svg\" height=\"24px\"viewBox=\"0 0 24 24\"\n",
              "       width=\"24px\">\n",
              "    <path d=\"M0 0h24v24H0V0z\" fill=\"none\"/>\n",
              "    <path d=\"M18.56 5.44l.94 2.06.94-2.06 2.06-.94-2.06-.94-.94-2.06-.94 2.06-2.06.94zm-11 1L8.5 8.5l.94-2.06 2.06-.94-2.06-.94L8.5 2.5l-.94 2.06-2.06.94zm10 10l.94 2.06.94-2.06 2.06-.94-2.06-.94-.94-2.06-.94 2.06-2.06.94z\"/><path d=\"M17.41 7.96l-1.37-1.37c-.4-.4-.92-.59-1.43-.59-.52 0-1.04.2-1.43.59L10.3 9.45l-7.72 7.72c-.78.78-.78 2.05 0 2.83L4 21.41c.39.39.9.59 1.41.59.51 0 1.02-.2 1.41-.59l7.78-7.78 2.81-2.81c.8-.78.8-2.07 0-2.86zM5.41 20L4 18.59l7.72-7.72 1.47 1.35L5.41 20z\"/>\n",
              "  </svg>\n",
              "      </button>\n",
              "      \n",
              "  <style>\n",
              "    .colab-df-container {\n",
              "      display:flex;\n",
              "      flex-wrap:wrap;\n",
              "      gap: 12px;\n",
              "    }\n",
              "\n",
              "    .colab-df-convert {\n",
              "      background-color: #E8F0FE;\n",
              "      border: none;\n",
              "      border-radius: 50%;\n",
              "      cursor: pointer;\n",
              "      display: none;\n",
              "      fill: #1967D2;\n",
              "      height: 32px;\n",
              "      padding: 0 0 0 0;\n",
              "      width: 32px;\n",
              "    }\n",
              "\n",
              "    .colab-df-convert:hover {\n",
              "      background-color: #E2EBFA;\n",
              "      box-shadow: 0px 1px 2px rgba(60, 64, 67, 0.3), 0px 1px 3px 1px rgba(60, 64, 67, 0.15);\n",
              "      fill: #174EA6;\n",
              "    }\n",
              "\n",
              "    [theme=dark] .colab-df-convert {\n",
              "      background-color: #3B4455;\n",
              "      fill: #D2E3FC;\n",
              "    }\n",
              "\n",
              "    [theme=dark] .colab-df-convert:hover {\n",
              "      background-color: #434B5C;\n",
              "      box-shadow: 0px 1px 3px 1px rgba(0, 0, 0, 0.15);\n",
              "      filter: drop-shadow(0px 1px 2px rgba(0, 0, 0, 0.3));\n",
              "      fill: #FFFFFF;\n",
              "    }\n",
              "  </style>\n",
              "\n",
              "      <script>\n",
              "        const buttonEl =\n",
              "          document.querySelector('#df-d8344b87-ec1f-4e47-940b-75083a8d6f72 button.colab-df-convert');\n",
              "        buttonEl.style.display =\n",
              "          google.colab.kernel.accessAllowed ? 'block' : 'none';\n",
              "\n",
              "        async function convertToInteractive(key) {\n",
              "          const element = document.querySelector('#df-d8344b87-ec1f-4e47-940b-75083a8d6f72');\n",
              "          const dataTable =\n",
              "            await google.colab.kernel.invokeFunction('convertToInteractive',\n",
              "                                                     [key], {});\n",
              "          if (!dataTable) return;\n",
              "\n",
              "          const docLinkHtml = 'Like what you see? Visit the ' +\n",
              "            '<a target=\"_blank\" href=https://colab.research.google.com/notebooks/data_table.ipynb>data table notebook</a>'\n",
              "            + ' to learn more about interactive tables.';\n",
              "          element.innerHTML = '';\n",
              "          dataTable['output_type'] = 'display_data';\n",
              "          await google.colab.output.renderOutput(dataTable, element);\n",
              "          const docLink = document.createElement('div');\n",
              "          docLink.innerHTML = docLinkHtml;\n",
              "          element.appendChild(docLink);\n",
              "        }\n",
              "      </script>\n",
              "    </div>\n",
              "  </div>\n",
              "  "
            ]
          },
          "metadata": {},
          "execution_count": 15
        }
      ]
    },
    {
      "cell_type": "markdown",
      "source": [
        "#**Binning, Discretização, Modelos Lineares e Árvores**\n",
        "---"
      ],
      "metadata": {
        "id": "ACyPdbC9R5eZ"
      }
    },
    {
      "cell_type": "markdown",
      "source": [
        "A melhor maneira de representar dados depende não apenas da semântica dos dados, mas também do tipo de modelo que você está usando. Modelos lineares e modelos baseados em árvore (como decision trees, gradient boosted trees, e random forests), duas famílias grandes e muito usadas, têm propriedades muito diferentes quando se trata de como funcionam com diferentes representações de recursos. Vamos voltar ao conjunto de dados de regressão de onda que usamos no Capítulo 2. Ele tem apenas um único recurso de entrada. Aqui está uma comparação de um modelo de regressão linear e um regressor de árvore de decisão neste conjunto de dados:"
      ],
      "metadata": {
        "id": "CiaoFMZoSWgn"
      }
    },
    {
      "cell_type": "markdown",
      "source": [
        "Como você sabe, os modelos lineares só podem modelar relacionamentos lineares, que são linhas no caso de um único recurso. A árvore de decisão pode construir um modelo muito mais complexo dos dados. No entanto, isso é fortemente dependente da representação dos dados. Uma maneira de tornar os modelos lineares mais poderosos em dados contínuos é usar binning (também conhecido como discretização) do recurso para dividi-lo em vários recursos, conforme descrito aqui."
      ],
      "metadata": {
        "id": "nI0zJUcwXZff"
      }
    },
    {
      "cell_type": "code",
      "source": [
        "from sklearn.linear_model import LinearRegression\n",
        "from sklearn.tree import DecisionTreeRegressor\n",
        "\n",
        "X, y = mglearn.datasets.make_wave(n_samples = 100)\n",
        "line = np.linspace(-3, 3, 1000, endpoint = False).reshape(-1,1)\n",
        "\n",
        "plt.figure(figsize = (12,7))\n",
        "\n",
        "reg = DecisionTreeRegressor(min_samples_split = 3)\n",
        "reg.fit(X, y)\n",
        "plt.plot(line, reg.predict(line), label = 'Decision Tree')\n",
        "\n",
        "reg = LinearRegression()\n",
        "reg.fit(X, y)\n",
        "plt.plot(line, reg.predict(line), label = 'linear regression')\n",
        "\n",
        "plt.plot(X[:, 0], y, 'o', c = 'k' )\n",
        "plt.title('Comparando a regressão linear e uma árvore de decisão no conjunto de dados Wave', fontsize = 16)\n",
        "plt.ylabel('Regression output', fontsize = 14)\n",
        "plt.xlabel('Input feature', fontsize = 14)\n",
        "plt.legend(loc = 'best');"
      ],
      "metadata": {
        "colab": {
          "base_uri": "https://localhost:8080/",
          "height": 465
        },
        "id": "H6O1TNMlR8d7",
        "outputId": "4eb0b4c5-358e-432c-a9b8-4a5c435f1c42"
      },
      "execution_count": 16,
      "outputs": [
        {
          "output_type": "display_data",
          "data": {
            "text/plain": [
              "<Figure size 864x504 with 1 Axes>"
            ],
            "image/png": "[encoded data removed]"
          },
          "metadata": {
            "needs_background": "light"
          }
        }
      ]
    },
    {
      "cell_type": "markdown",
      "source": [
        "Vamos imaginar uma partição do intervalo de entrada para o recurso (neste caso, os números de –3 a 3) em um número fixo de compartimentos – digamos, 10. Um ponto de dados será então representado por qual compartimento ele se enquadra. Para determinar isso, primeiro temos que definir os compartimentos. Nesse caso, definiremos 10 compartimentos igualmente espaçados entre –3 e 3. Usamos a função np.linspace para isso, criando 11 entradas, que criarão 10 compartimentos — são os espaços entre dois limites consecutivos:"
      ],
      "metadata": {
        "id": "thIxwsw7Yof7"
      }
    },
    {
      "cell_type": "code",
      "source": [
        "bins = np.linspace(-3, 3, 11)\n",
        "print(f\"bins: {bins}\")"
      ],
      "metadata": {
        "colab": {
          "base_uri": "https://localhost:8080/"
        },
        "id": "ZyphtCrBXvYs",
        "outputId": "9158d370-031b-48a4-ba55-7579ea1cfed0"
      },
      "execution_count": 17,
      "outputs": [
        {
          "output_type": "stream",
          "name": "stdout",
          "text": [
            "bins: [-3.  -2.4 -1.8 -1.2 -0.6  0.   0.6  1.2  1.8  2.4  3. ]\n"
          ]
        }
      ]
    },
    {
      "cell_type": "markdown",
      "source": [
        "Aqui, o primeiro compartimento contém todos os pontos de dados com valores de recurso –3 a –2,68, o segundo compartimento contém todos os pontos com valores de recurso de –2,68 a –2,37 e assim por diante.\n",
        "\n",
        "Em seguida, registramos para cada ponto de dados em qual compartimento ele se encaixa. Isso pode ser facilmente calculado usando a função np.digitize:"
      ],
      "metadata": {
        "id": "Vzdf2VaQZaw0"
      }
    },
    {
      "cell_type": "code",
      "source": [
        "which_bin = np.digitize(X, bins=bins)\n",
        "print(f\"\\nData points:\\n {X[:5].round(3)}\")\n",
        "print(f\"\\nBin membership for data points:\\n {which_bin[:5].round(3)}\")"
      ],
      "metadata": {
        "colab": {
          "base_uri": "https://localhost:8080/"
        },
        "id": "-8TgpqkmamT9",
        "outputId": "0f5275cc-a5fc-47b5-a63e-e434130c1c7c"
      },
      "execution_count": 18,
      "outputs": [
        {
          "output_type": "stream",
          "name": "stdout",
          "text": [
            "\n",
            "Data points:\n",
            " [[-0.753]\n",
            " [ 2.704]\n",
            " [ 1.392]\n",
            " [ 0.592]\n",
            " [-2.064]]\n",
            "\n",
            "Bin membership for data points:\n",
            " [[ 4]\n",
            " [10]\n",
            " [ 8]\n",
            " [ 6]\n",
            " [ 2]]\n"
          ]
        }
      ]
    },
    {
      "cell_type": "markdown",
      "source": [
        "O que fizemos aqui foi transformar o único recurso de entrada contínua no conjunto de dados de onda em um recurso categórico que codifica em qual compartimento um ponto de dados está. Para usar um modelo scikitlearn nesses dados, transformamos esse recurso discreto em uma codificação one-hot usando o `OneHotEncoder` do módulo de pré-processamento. O OneHotEncoder faz a mesma codificação que pandas.get_dummies, embora atualmente funcione apenas em variáveis categóricas que são números inteiros:"
      ],
      "metadata": {
        "id": "1yZz0F18d-6P"
      }
    },
    {
      "cell_type": "code",
      "source": [
        "from sklearn.preprocessing import OneHotEncoder\n",
        "# transforma usando o OneHotEncoder\n",
        "encoder = OneHotEncoder(sparse = False)\n",
        "# encoder.fit encontra os valores exclusivos que aparecem em which_bin\n",
        "encoder.fit(which_bin)\n",
        "# transform cria a codificação one-hot\n",
        "X_binned = encoder.transform(which_bin)\n",
        "X_binned[:5]"
      ],
      "metadata": {
        "colab": {
          "base_uri": "https://localhost:8080/"
        },
        "id": "NFvm-9SfeAOh",
        "outputId": "02aa9939-a5d9-460b-c379-53f4ce397dd4"
      },
      "execution_count": 19,
      "outputs": [
        {
          "output_type": "execute_result",
          "data": {
            "text/plain": [
              "array([[0., 0., 0., 1., 0., 0., 0., 0., 0., 0.],\n",
              "       [0., 0., 0., 0., 0., 0., 0., 0., 0., 1.],\n",
              "       [0., 0., 0., 0., 0., 0., 0., 1., 0., 0.],\n",
              "       [0., 0., 0., 0., 0., 1., 0., 0., 0., 0.],\n",
              "       [0., 1., 0., 0., 0., 0., 0., 0., 0., 0.]])"
            ]
          },
          "metadata": {},
          "execution_count": 19
        }
      ]
    },
    {
      "cell_type": "markdown",
      "source": [
        "Como especificamos 10 compartimentos, o conjunto de dados transformado X_binned agora é composto de 10 recursos:"
      ],
      "metadata": {
        "id": "BLxqDbwwfnLt"
      }
    },
    {
      "cell_type": "code",
      "source": [
        "print(f\"X_binned.shape: {X_binned.shape}\")"
      ],
      "metadata": {
        "colab": {
          "base_uri": "https://localhost:8080/"
        },
        "id": "lZ-7TduBftRZ",
        "outputId": "d31bebb0-526a-4822-fd7a-f7e4f825e32e"
      },
      "execution_count": 20,
      "outputs": [
        {
          "output_type": "stream",
          "name": "stdout",
          "text": [
            "X_binned.shape: (100, 10)\n"
          ]
        }
      ]
    },
    {
      "cell_type": "markdown",
      "source": [
        "Agora construímos um novo modelo de regressão linear e um novo modelo de árvore de decisão nos dados one-hot-encoded. O resultado é visualizado na Figura abaixo, junto com os limites do compartimento, mostrados como linhas pretas pontilhadas:"
      ],
      "metadata": {
        "id": "oVHjqOg_gEj2"
      }
    },
    {
      "cell_type": "code",
      "source": [
        "line_binned = encoder.transform(np.digitize(line, bins = bins))\n",
        "\n",
        "plt.figure(figsize = (12, 7))\n",
        "\n",
        "reg = LinearRegression()\n",
        "reg.fit(X_binned, y)\n",
        "plt.plot(line, reg.predict(line_binned), label = 'linear regression binned')\n",
        "\n",
        "reg = DecisionTreeRegressor(min_samples_split = 3)\n",
        "reg.fit(X_binned, y)\n",
        "plt.plot(line, reg.predict(line_binned), label = 'decision tree binned')\n",
        "\n",
        "plt.plot(X[:, 0], y, 'o', c = 'k')\n",
        "plt.vlines(bins, -3, 3, linewidth = 1, alpha = 0.2)\n",
        "plt.title('Comparando a regressão linear e a regressão da árvore de decisão em recursos categorizados', fontsize = 18)\n",
        "plt.ylabel('Regression output', fontsize = 14)\n",
        "plt.xlabel('Input feature', fontsize = 14)\n",
        "plt.legend(loc = 'upper left');"
      ],
      "metadata": {
        "colab": {
          "base_uri": "https://localhost:8080/",
          "height": 467
        },
        "id": "EGmIgqhggXYn",
        "outputId": "bbb900d6-1fff-4e50-a800-e51701c0e459"
      },
      "execution_count": 21,
      "outputs": [
        {
          "output_type": "display_data",
          "data": {
            "text/plain": [
              "<Figure size 864x504 with 1 Axes>"
            ],
            "image/png": "[encoded data removed]"
          },
          "metadata": {
            "needs_background": "light"
          }
        }
      ]
    },
    {
      "cell_type": "markdown",
      "source": [
        "A linha tracejada e a linha sólida estão exatamente uma em cima da outra, o que significa que o modelo de regressão linear e a árvore de decisão fazem exatamente as mesmas previsões. Para cada bin, eles preveem um valor constante. Como os recursos são constantes em cada bin, qualquer modelo deve prever o mesmo valor para todos os pontos dentro de um bin. Comparando o que o\n",
        "modelos aprendidos antes de categorizar os recursos e depois, vemos que o modelo linear ficou muito mais flexível, pois agora tem um valor diferente para cada bin, enquanto o modelo de árvore de decisão ficou muito menos flexível. Os recursos de categorização geralmente não têm efeito benéfico para modelos baseados em árvore, pois esses modelos podem aprender a dividir os dados em qualquer lugar. De certa forma, isso significa que as árvores de decisão podem aprender qualquer binning que seja mais útil para prever esses dados. Além disso, as árvores de decisão analisam vários recursos de uma só vez, enquanto o binning geralmente é feito por recurso. No entanto, o modelo linear\n",
        "se beneficiaram muito em expressividade com a transformação dos dados.\n",
        "\n",
        "Se houver boas razões para usar um modelo linear para um determinado conjunto de dados - digamos, porque ele é muito grande e de alta dimensão, mas alguns recursos têm relações não lineares com a saída - o binning pode ser uma ótima maneira de aumentar o poder da modelagem."
      ],
      "metadata": {
        "id": "Zoo3-SAjk_Da"
      }
    },
    {
      "cell_type": "markdown",
      "source": [
        "#**Interações e Polinômios**"
      ],
      "metadata": {
        "id": "c6Kjxg8glirN"
      }
    },
    {
      "cell_type": "markdown",
      "source": [
        "Outra maneira de enriquecer uma representação de recursos, particularmente para modelos lineares, é adicionar recursos de interação e recursos polinomiais dos dados originais. Esse tipo de engenharia de recursos é frequentemente usado em modelagem estatística, mas também é comum em muitas aplicações práticas de aprendizado de máquina."
      ],
      "metadata": {
        "id": "0k7ei2PYmS4Z"
      }
    },
    {
      "cell_type": "markdown",
      "source": [
        "Como primeiro exemplo, observe novamente o gráfico: \"*Comparando a regressão linear e a regressão da árvore de decisão em recursos categorizados*\". O modelo linear aprendeu um valor constante para cada bin no conjunto de dados wave. Sabemos, no entanto, que os modelos lineares podem aprender não apenas deslocamentos, mas também inclinações. Uma maneira de adicionar uma inclinação ao modelo linear nos dados agrupados é adicionar o recurso original (o eixo x no gráfico) de volta. Isso leva a um conjunto de dados dimensional, como visto no próximo gráfico:"
      ],
      "metadata": {
        "id": "qoxQfklTmnqL"
      }
    },
    {
      "cell_type": "code",
      "source": [
        "X_combined = np.hstack([X, X_binned])\n",
        "X_combined.shape"
      ],
      "metadata": {
        "colab": {
          "base_uri": "https://localhost:8080/"
        },
        "id": "5igqeDhAlbjs",
        "outputId": "3a9da579-c8c3-4cf5-8377-0ee869eb2210"
      },
      "execution_count": 22,
      "outputs": [
        {
          "output_type": "execute_result",
          "data": {
            "text/plain": [
              "(100, 11)"
            ]
          },
          "metadata": {},
          "execution_count": 22
        }
      ]
    },
    {
      "cell_type": "code",
      "source": [
        "from sklearn.preprocessing import KBinsDiscretizer"
      ],
      "metadata": {
        "id": "vc2hAr-nqumJ"
      },
      "execution_count": 23,
      "outputs": []
    },
    {
      "cell_type": "code",
      "source": [
        "kb = KBinsDiscretizer(n_bins=10, strategy='uniform')\n",
        "kb.fit(X)"
      ],
      "metadata": {
        "colab": {
          "base_uri": "https://localhost:8080/"
        },
        "id": "AjtdMYMDp2bj",
        "outputId": "59770290-76e2-4a61-d342-073a94642513"
      },
      "execution_count": 24,
      "outputs": [
        {
          "output_type": "execute_result",
          "data": {
            "text/plain": [
              "KBinsDiscretizer(n_bins=10, strategy='uniform')"
            ]
          },
          "metadata": {},
          "execution_count": 24
        }
      ]
    },
    {
      "cell_type": "code",
      "source": [
        "kb = KBinsDiscretizer(n_bins=10, strategy='uniform', encode='onehot-dense')\n",
        "kb.fit(X)\n",
        "X_binned = kb.transform(X)"
      ],
      "metadata": {
        "id": "vWywYHN-p2Zw"
      },
      "execution_count": 25,
      "outputs": []
    },
    {
      "cell_type": "code",
      "source": [
        "reg = LinearRegression().fit(X_combined, y)\n",
        "\n",
        "plt.figure(figsize = (12, 7))\n",
        "\n",
        "line_combined = np.hstack([line, line_binned])\n",
        "plt.plot(line, reg.predict(line_combined), label = 'linear regression combined')\n",
        "plt.plot(X[:, 0], y, 'o', c='k')\n",
        "\n",
        "plt.vlines(kb.bin_edges_[0], -3, 3, linewidth=1, alpha=.2)\n",
        "plt.title('Regressão linear usando recursos agrupados e uma única inclinação global', fontsize = 18)\n",
        "plt.ylabel('Regression output', fontsize = 14)\n",
        "plt.xlabel('Input feature', fontsize = 14)\n",
        "plt.legend(loc = 'best', fontsize = 12);"
      ],
      "metadata": {
        "colab": {
          "base_uri": "https://localhost:8080/",
          "height": 467
        },
        "id": "_tmWpBKlph1J",
        "outputId": "bdd84ec0-c7b8-4dc2-9dfd-169860c7dfd2"
      },
      "execution_count": 26,
      "outputs": [
        {
          "output_type": "display_data",
          "data": {
            "text/plain": [
              "<Figure size 864x504 with 1 Axes>"
            ],
            "image/png": "[encoded data removed]"
          },
          "metadata": {
            "needs_background": "light"
          }
        }
      ]
    },
    {
      "cell_type": "markdown",
      "source": [
        "Neste exemplo, o modelo aprendeu um deslocamento para cada caixa, juntamente com uma inclinação. A inclinação aprendida é descendente e compartilhada por todos os compartimentos - há um único recurso de eixo x, que possui uma única inclinação. Como a inclinação é compartilhada em todas as caixas, não parece ser muito útil. Preferimos ter uma inclinação separada para cada caixa! Nós podemos conseguir isso, adicione um recurso de interação ou produto que indique em qual compartimento um ponto de dados está e onde ele se encontra no eixo x. Esse recurso é um produto do indicador de compartimento e do recurso original. Vamos criar este conjunto de dados:"
      ],
      "metadata": {
        "id": "5k0xfm7StCDO"
      }
    },
    {
      "cell_type": "code",
      "source": [
        "X_product = np.hstack([X_binned, X * X_binned])\n",
        "X_product.shape"
      ],
      "metadata": {
        "colab": {
          "base_uri": "https://localhost:8080/"
        },
        "id": "Rx7exbyttSMk",
        "outputId": "1dad8e07-56a0-4831-8c0e-bb2982402ec1"
      },
      "execution_count": 27,
      "outputs": [
        {
          "output_type": "execute_result",
          "data": {
            "text/plain": [
              "(100, 20)"
            ]
          },
          "metadata": {},
          "execution_count": 27
        }
      ]
    },
    {
      "cell_type": "markdown",
      "source": [
        "O conjunto de dados agora tem 20 recursos: os indicadores para qual compartimento um ponto de dados está e um produto do recurso original e o indicador de compartimento. Você pode pensar no recurso do produto como uma cópia separada do recurso do eixo x para cada compartimento. É o recurso original dentro da caixa e zero em qualquer outro lugar. A Figura 4-4 mostra o resultado do modelo linear nesta nova representação:"
      ],
      "metadata": {
        "id": "fdbv3nZquCy8"
      }
    },
    {
      "cell_type": "code",
      "source": [
        "reg = LinearRegression().fit(X_product, y)\n",
        "\n",
        "plt.figure(figsize = (12, 7))\n",
        "\n",
        "\n",
        "line_product = np.hstack([line_binned, line * line_binned])\n",
        "plt.plot(line, reg.predict(line_product), label='linear regression product')\n",
        "\n",
        "plt.vlines(kb.bin_edges_[0], -3, 3, linewidth=1, alpha=.2)\n",
        "plt.plot(X[:, 0], y, 'o', c='k')\n",
        "\n",
        "plt.title('Regressão linear com uma inclinação separada por bin', fontsize = 18)\n",
        "plt.ylabel('Regression output', fontsize = 14)\n",
        "plt.xlabel('Input feature', fontsize = 14)\n",
        "plt.legend(loc = 'best', fontsize = 12);"
      ],
      "metadata": {
        "colab": {
          "base_uri": "https://localhost:8080/",
          "height": 466
        },
        "id": "lKPCgJqetrra",
        "outputId": "90106678-92f9-4a78-b5fb-1c9c33ec7f73"
      },
      "execution_count": 28,
      "outputs": [
        {
          "output_type": "display_data",
          "data": {
            "text/plain": [
              "<Figure size 864x504 with 1 Axes>"
            ],
            "image/png": "[encoded data removed]"
          },
          "metadata": {
            "needs_background": "light"
          }
        }
      ]
    },
    {
      "cell_type": "markdown",
      "source": [
        "Como você pode ver, agora cada bin tem seu próprio deslocamento e inclinação neste modelo."
      ],
      "metadata": {
        "id": "598nsd07v1wq"
      }
    },
    {
      "cell_type": "markdown",
      "source": [
        "Usar binning é uma maneira de expandir um recurso contínuo. Outra é usar polinômios das características originais. Para um determinado recurso x, podemos considerar x ** 2, x ** 3, x ** 4 e assim por diante. Isso é implementado em PolynomialFeatures no módulo preprocessing:"
      ],
      "metadata": {
        "id": "Ic8rj9RKv_DQ"
      }
    },
    {
      "cell_type": "code",
      "source": [
        "from sklearn.preprocessing import PolynomialFeatures\n",
        "\n",
        "# inclui polinômios até x ** 10:\n",
        "# o padrão \"include_bias =True\" adiciona um recurso que é constantemente \n",
        "poly = PolynomialFeatures(degree = 10, include_bias = False)\n",
        "poly.fit(X)\n",
        "X_poly = poly.transform(X)"
      ],
      "metadata": {
        "id": "wglggS_yv2da"
      },
      "execution_count": 29,
      "outputs": []
    },
    {
      "cell_type": "markdown",
      "source": [
        "Usar um grau de 10 produz 10 recursos:"
      ],
      "metadata": {
        "id": "0VGswh2exP1n"
      }
    },
    {
      "cell_type": "code",
      "source": [
        "print(f\"X_poly.shape: {X_poly.shape}\")"
      ],
      "metadata": {
        "colab": {
          "base_uri": "https://localhost:8080/"
        },
        "id": "SOJ4-ri5xR92",
        "outputId": "0357f906-89dd-4e53-8495-2ee3a24cbf3a"
      },
      "execution_count": 30,
      "outputs": [
        {
          "output_type": "stream",
          "name": "stdout",
          "text": [
            "X_poly.shape: (100, 10)\n"
          ]
        }
      ]
    },
    {
      "cell_type": "markdown",
      "source": [
        "Vamos comparar as entradas de X_poly com as de X:"
      ],
      "metadata": {
        "id": "vgjuWuThxqVb"
      }
    },
    {
      "cell_type": "code",
      "source": [
        "print(f\"Entries of X:\\n{X[:5].round(3)}\")\n",
        "print(f\"Entries of X_poly:\\n{np.round(X_poly[:5], 2)}\")"
      ],
      "metadata": {
        "colab": {
          "base_uri": "https://localhost:8080/"
        },
        "id": "LZwq9kHoxr4O",
        "outputId": "61e35dc4-8696-4be4-b597-cc48135b56e4"
      },
      "execution_count": 31,
      "outputs": [
        {
          "output_type": "stream",
          "name": "stdout",
          "text": [
            "Entries of X:\n",
            "[[-0.753]\n",
            " [ 2.704]\n",
            " [ 1.392]\n",
            " [ 0.592]\n",
            " [-2.064]]\n",
            "Entries of X_poly:\n",
            "[[-7.500000e-01  5.700000e-01 -4.300000e-01  3.200000e-01 -2.400000e-01\n",
            "   1.800000e-01 -1.400000e-01  1.000000e-01 -8.000000e-02  6.000000e-02]\n",
            " [ 2.700000e+00  7.310000e+00  1.978000e+01  5.348000e+01  1.446300e+02\n",
            "   3.911200e+02  1.057710e+03  2.860360e+03  7.735230e+03  2.091828e+04]\n",
            " [ 1.390000e+00  1.940000e+00  2.700000e+00  3.750000e+00  5.230000e+00\n",
            "   7.270000e+00  1.013000e+01  1.409000e+01  1.962000e+01  2.731000e+01]\n",
            " [ 5.900000e-01  3.500000e-01  2.100000e-01  1.200000e-01  7.000000e-02\n",
            "   4.000000e-02  3.000000e-02  2.000000e-02  1.000000e-02  1.000000e-02]\n",
            " [-2.060000e+00  4.260000e+00 -8.790000e+00  1.814000e+01 -3.745000e+01\n",
            "   7.729000e+01 -1.595200e+02  3.292200e+02 -6.794800e+02  1.402370e+03]]\n"
          ]
        }
      ]
    },
    {
      "cell_type": "markdown",
      "source": [
        "Você pode obter a semântica dos recursos chamando o método get_feature_names, que fornece o expoente para cada recurso:"
      ],
      "metadata": {
        "id": "31IOT33Vy7MJ"
      }
    },
    {
      "cell_type": "code",
      "source": [
        "print(f\"Polynomial feature names:\\n{poly.get_feature_names()}\")"
      ],
      "metadata": {
        "colab": {
          "base_uri": "https://localhost:8080/"
        },
        "id": "RkAC8jgdy9BZ",
        "outputId": "87ae98a5-d181-4f3c-b9be-c8a1f7ecafc2"
      },
      "execution_count": 32,
      "outputs": [
        {
          "output_type": "stream",
          "name": "stdout",
          "text": [
            "Polynomial feature names:\n",
            "['x0', 'x0^2', 'x0^3', 'x0^4', 'x0^5', 'x0^6', 'x0^7', 'x0^8', 'x0^9', 'x0^10']\n"
          ]
        }
      ]
    },
    {
      "cell_type": "markdown",
      "source": [
        "Você pode ver que a primeira coluna de X_poly corresponde exatamente a X, enquanto as outras colunas são as potências da primeira entrada. É interessante ver o quão grande alguns dos valores podem chegar. A segunda coluna tem entradas acima de 20.000, ordens de grandeza diferentes do resto.\n",
        "\n",
        "O uso de recursos polinomiais junto com um modelo de regressão linear produz o modelo clássico de regressão polinomial (consulte o gráfico abaixo):"
      ],
      "metadata": {
        "id": "Ofl1dfMSzX3Y"
      }
    },
    {
      "cell_type": "code",
      "source": [
        "reg = LinearRegression()\n",
        "reg.fit(X_poly, y)\n",
        "\n",
        "line_poly = poly.transform(line)\n",
        "\n",
        "plt.figure(figsize = (12, 7))\n",
        "plt.plot(line, reg.predict(line_poly), label = 'polynomial linear regression')\n",
        "plt.plot(X[:, 0], y, 'o', c = 'k')\n",
        "plt.title('Regressão linear com recursos polinomiais de décimo grau', fontsize = 18)\n",
        "plt.ylabel('Regression output', fontsize = 14)\n",
        "plt.xlabel('Input feature', fontsize = 14)\n",
        "plt.legend(loc = 'best', fontsize = 12)\n",
        "plt.show();"
      ],
      "metadata": {
        "colab": {
          "base_uri": "https://localhost:8080/",
          "height": 467
        },
        "id": "fwSRKnlEbSnB",
        "outputId": "8508c62f-9382-4757-c5fb-72c26b976136"
      },
      "execution_count": 33,
      "outputs": [
        {
          "output_type": "display_data",
          "data": {
            "text/plain": [
              "<Figure size 864x504 with 1 Axes>"
            ],
            "image/png": "[encoded data removed]"
          },
          "metadata": {
            "needs_background": "light"
          }
        }
      ]
    },
    {
      "cell_type": "markdown",
      "source": [
        "Como você pode ver, os recursos polinomiais produzem um ajuste muito suave nesses dados unidimensionais. No entanto, polinômios de alto grau tendem a se comportar de maneira extrema nas fronteiras ou em regiões com poucos dados.\n",
        "\n",
        "Como comparação, aqui está um modelo SVM do kernel aprendido nos dados originais, sem nenhuma transformação:"
      ],
      "metadata": {
        "id": "3Gi6kSNadMeP"
      }
    },
    {
      "cell_type": "code",
      "source": [
        "from sklearn.svm import SVR\n",
        "\n",
        "plt.figure(figsize = (12, 7))\n",
        "\n",
        "for gamma in [1, 10]:\n",
        "  svr = SVR(gamma = gamma).fit(X, y)\n",
        "  plt.plot(line, svr.predict(line), label = 'SVR gamma = {}'.format(gamma))\n",
        "\n",
        "\n",
        "\n",
        "plt.plot(X[:, 0], y, 'o', c = 'k')\n",
        "plt.title('Comparação de diferentes parâmetros gamma para um SVM com kernel RBF', fontsize = 18)\n",
        "plt.ylabel('Regression output', fontsize = 14)\n",
        "plt.xlabel('Input feature', fontsize = 14)\n",
        "plt.legend(loc = 'best', fontsize = 12)\n",
        "plt.show();"
      ],
      "metadata": {
        "colab": {
          "base_uri": "https://localhost:8080/",
          "height": 467
        },
        "id": "YAbBs5ALbWfs",
        "outputId": "52f03728-2901-4e77-f94f-2b7245536c5b"
      },
      "execution_count": 37,
      "outputs": [
        {
          "output_type": "display_data",
          "data": {
            "text/plain": [
              "<Figure size 864x504 with 1 Axes>"
            ],
            "image/png": "[encoded data removed]"
          },
          "metadata": {
            "needs_background": "light"
          }
        }
      ]
    },
    {
      "cell_type": "markdown",
      "source": [
        "Usando um modelo mais complexo, um SVM de kernel, podemos aprender uma previsão similarmente complexa para a regressão polinomial sem uma transformação explícita dos recursos."
      ],
      "metadata": {
        "id": "YN2jb0G7f3y4"
      }
    },
    {
      "cell_type": "markdown",
      "source": [
        "Como uma aplicação mais realista de interações e polinômios, vamos olhar novamente para o conjunto de dados da Boston Housing. Já usamos recursos polinomiais neste conjunto de dados no Capítulo 2. Agora vamos dar uma olhada em como esses recursos foram construídos e como os recursos polinomiais ajudam. Primeiro carregamos os dados e os redimensionamos para estarem entre 0 e 1 usando MinMaxScaler:"
      ],
      "metadata": {
        "id": "U_CiWmBKf3rZ"
      }
    },
    {
      "cell_type": "code",
      "source": [
        "from sklearn.datasets import load_boston\n",
        "from sklearn.model_selection import train_test_split\n",
        "from sklearn.preprocessing import MinMaxScaler"
      ],
      "metadata": {
        "id": "8YVVM8Dwge5i"
      },
      "execution_count": 38,
      "outputs": []
    },
    {
      "cell_type": "code",
      "source": [
        "boston = load_boston()\n",
        "X_train, X_test, y_train, y_test = train_test_split(boston.data, boston.target,\n",
        "                                                    random_state = 0)\n",
        "\n",
        "# redimensionar dados\n",
        "scaler = MinMaxScaler()\n",
        "X_train_scaled = scaler.fit_transform(X_train)\n",
        "X_test_scaled = scaler.fit_transform(X_test)"
      ],
      "metadata": {
        "id": "uEhMdwe4g43q"
      },
      "execution_count": 39,
      "outputs": []
    },
    {
      "cell_type": "markdown",
      "source": [
        "Agora, extraímos características polinomiais e interações até um grau de 2:"
      ],
      "metadata": {
        "id": "06zEOmXsh-po"
      }
    },
    {
      "cell_type": "code",
      "source": [
        "poly = PolynomialFeatures(degree = 2).fit(X_train_scaled)\n",
        "X_train_poly = poly.transform(X_train_scaled)\n",
        "X_test_poly = poly.transform(X_test_scaled)\n",
        "\n",
        "print('-' * 35)\n",
        "print(f\"X_train.shape: {X_train.shape}\")\n",
        "print('-' * 35)\n",
        "print(f\"X_train_poly.shape: {X_train_poly.shape}\")\n",
        "print('-' * 35)"
      ],
      "metadata": {
        "colab": {
          "base_uri": "https://localhost:8080/"
        },
        "id": "ROftzeMph3zn",
        "outputId": "a7c22d5e-ae2d-4a97-8331-051520cd0a22"
      },
      "execution_count": 42,
      "outputs": [
        {
          "output_type": "stream",
          "name": "stdout",
          "text": [
            "-----------------------------------\n",
            "X_train.shape: (379, 13)\n",
            "-----------------------------------\n",
            "X_train_poly.shape: (379, 105)\n",
            "-----------------------------------\n"
          ]
        }
      ]
    },
    {
      "cell_type": "markdown",
      "source": [
        "Os dados originalmente tinham 13 recursos, que foram expandidos em 105 recursos de interação. Esses novos recursos representam todas as interações possíveis entre dois recursos originais diferentes, bem como o quadrado de cada recurso original. Deggre = 2 aqui significa que examinamos todos os recursos que são o produto de até dois recursos originais. A correspondência exata entre os recursos de entrada e saída pode ser encontrada usando o método `get_feature_names`:"
      ],
      "metadata": {
        "id": "bfwSI2zRjCp9"
      }
    },
    {
      "cell_type": "code",
      "source": [
        "print(f\"Polynomial feature names:\\n{poly.get_feature_names()}\")"
      ],
      "metadata": {
        "colab": {
          "base_uri": "https://localhost:8080/"
        },
        "id": "NHN41X4oiycv",
        "outputId": "06cf4b29-d248-4076-96a6-025dead21e5b"
      },
      "execution_count": 43,
      "outputs": [
        {
          "output_type": "stream",
          "name": "stdout",
          "text": [
            "Polynomial feature names:\n",
            "['1', 'x0', 'x1', 'x2', 'x3', 'x4', 'x5', 'x6', 'x7', 'x8', 'x9', 'x10', 'x11', 'x12', 'x0^2', 'x0 x1', 'x0 x2', 'x0 x3', 'x0 x4', 'x0 x5', 'x0 x6', 'x0 x7', 'x0 x8', 'x0 x9', 'x0 x10', 'x0 x11', 'x0 x12', 'x1^2', 'x1 x2', 'x1 x3', 'x1 x4', 'x1 x5', 'x1 x6', 'x1 x7', 'x1 x8', 'x1 x9', 'x1 x10', 'x1 x11', 'x1 x12', 'x2^2', 'x2 x3', 'x2 x4', 'x2 x5', 'x2 x6', 'x2 x7', 'x2 x8', 'x2 x9', 'x2 x10', 'x2 x11', 'x2 x12', 'x3^2', 'x3 x4', 'x3 x5', 'x3 x6', 'x3 x7', 'x3 x8', 'x3 x9', 'x3 x10', 'x3 x11', 'x3 x12', 'x4^2', 'x4 x5', 'x4 x6', 'x4 x7', 'x4 x8', 'x4 x9', 'x4 x10', 'x4 x11', 'x4 x12', 'x5^2', 'x5 x6', 'x5 x7', 'x5 x8', 'x5 x9', 'x5 x10', 'x5 x11', 'x5 x12', 'x6^2', 'x6 x7', 'x6 x8', 'x6 x9', 'x6 x10', 'x6 x11', 'x6 x12', 'x7^2', 'x7 x8', 'x7 x9', 'x7 x10', 'x7 x11', 'x7 x12', 'x8^2', 'x8 x9', 'x8 x10', 'x8 x11', 'x8 x12', 'x9^2', 'x9 x10', 'x9 x11', 'x9 x12', 'x10^2', 'x10 x11', 'x10 x12', 'x11^2', 'x11 x12', 'x12^2']\n"
          ]
        }
      ]
    },
    {
      "cell_type": "markdown",
      "source": [
        "O primeiro novo recurso é um recurso constante, chamado de \"1\". Os próximos 13 recursos são os recursos originais (chamados de \"x0\" a \"x12\"). Em seguida, segue o primeiro recurso ao quadrado (\"x0^2\") e combinações do primeiro e dos outros recursos.\n",
        "\n",
        "Vamos comparar o desempenho usando o Ridge nos dados com e sem interações:"
      ],
      "metadata": {
        "id": "Y6ndTt-7jCnI"
      }
    },
    {
      "cell_type": "code",
      "source": [
        "from sklearn.linear_model import Ridge\n",
        "\n",
        "ridge = Ridge()\n",
        "ridge.fit(X_train_scaled, y_train)\n",
        "\n",
        "ridge_ = Ridge()\n",
        "ridge_.fit(X_train_poly, y_train)\n",
        "\n",
        "print('-' * 45)\n",
        "print(f\"Score without interactions: {ridge.score(X_test_scaled, y_test):.2%}\")\n",
        "print('-' * 45)\n",
        "print(f\"Score with interations: {ridge_.score(X_test_poly, y_test):.2%}\")\n",
        "print('-' * 45)"
      ],
      "metadata": {
        "colab": {
          "base_uri": "https://localhost:8080/"
        },
        "id": "JnxEuiRDka3j",
        "outputId": "a4e12bc9-d041-44b6-a40d-004ae3d79a7f"
      },
      "execution_count": 47,
      "outputs": [
        {
          "output_type": "stream",
          "name": "stdout",
          "text": [
            "---------------------------------------------\n",
            "Score without interactions: 57.69%\n",
            "---------------------------------------------\n",
            "Score with interations: 74.11%\n",
            "---------------------------------------------\n"
          ]
        }
      ]
    },
    {
      "cell_type": "markdown",
      "source": [
        "Claramente, as interações e os recursos polinomiais nos deram um bom impulso no desempenho ao usar o Ridge. Ao usar um modelo mais complexo como uma floresta aleatória, a história é um pouco diferente:"
      ],
      "metadata": {
        "id": "oHN7yIBMmkd5"
      }
    },
    {
      "cell_type": "code",
      "source": [
        "from sklearn.ensemble import RandomForestRegressor\n",
        "\n",
        "rf = RandomForestRegressor(n_estimators = 100)\n",
        "rf.fit(X_train_scaled, y_train)\n",
        "\n",
        "rf_ = RandomForestRegressor(n_estimators = 100)\n",
        "rf_.fit(X_train_poly, y_train)\n",
        "\n",
        "print('-' * 45)\n",
        "print(f\"Score without interactions: {rf.score(X_test_scaled, y_test):.2%}\")\n",
        "print('-' * 45)\n",
        "print(f\"Score with interactions: {rf_.score(X_test_poly, y_test):.2%}\")\n",
        "print('-' * 45)"
      ],
      "metadata": {
        "colab": {
          "base_uri": "https://localhost:8080/"
        },
        "id": "oCWCh_xFmt7L",
        "outputId": "33e6dbca-24b7-4849-d280-b075f8097b43"
      },
      "execution_count": 50,
      "outputs": [
        {
          "output_type": "stream",
          "name": "stdout",
          "text": [
            "---------------------------------------------\n",
            "Score without interactions: 77.76%\n",
            "---------------------------------------------\n",
            "Score with interactions: 75.09%\n",
            "---------------------------------------------\n"
          ]
        }
      ]
    },
    {
      "cell_type": "markdown",
      "source": [
        "Você pode ver que mesmo sem recursos adicionais, a floresta aleatória supera o desempenho do Ridge. Adicionar interações e polinômios na verdade diminui um pouco o desempenho."
      ],
      "metadata": {
        "id": "uW2OpTXFmkYQ"
      }
    }
  ]
}