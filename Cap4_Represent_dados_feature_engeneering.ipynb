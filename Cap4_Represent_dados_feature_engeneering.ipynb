{
  "nbformat": 4,
  "nbformat_minor": 0,
  "metadata": {
    "colab": {
      "name": "Cap4_Represent_dados_feature_engeneering.ipynb",
      "provenance": [],
      "collapsed_sections": [],
      "authorship_tag": "ABX9TyONzD0vbXRHLMscI6xmQhNG",
      "include_colab_link": true
    },
    "kernelspec": {
      "name": "python3",
      "display_name": "Python 3"
    },
    "language_info": {
      "name": "python"
    }
  },
  "cells": [
    {
      "cell_type": "markdown",
      "metadata": {
        "id": "view-in-github",
        "colab_type": "text"
      },
      "source": [
        "<a href=\"https://colab.research.google.com/github/Kropotikin/Introduction_to_Machine_Learning_with_Python/blob/main/Cap4_Represent_dados_feature_engeneering.ipynb\" target=\"_parent\"><img src=\"https://colab.research.google.com/assets/colab-badge.svg\" alt=\"Open In Colab\"/></a>"
      ]
    },
    {
      "cell_type": "markdown",
      "source": [
        "[GitHub](https://github.com/Kropotikin/introduction_to_ml_with_python/blob/master/04-representing-data-feature-engineering.ipynb)"
      ],
      "metadata": {
        "id": "GEK_DRVXBAPH"
      }
    },
    {
      "cell_type": "markdown",
      "source": [
        "<hr color = 'B7FF80'>\n",
        "\n",
        "#<h1 align = 'right'><font color = 'c77dff' size = +3.5><b>Preparando ambiente</b></font></h1>\n",
        "<hr color = 'B7FF80'>"
      ],
      "metadata": {
        "id": "fGFIkoLWBb-n"
      }
    },
    {
      "cell_type": "code",
      "execution_count": 1,
      "metadata": {
        "colab": {
          "base_uri": "https://localhost:8080/"
        },
        "id": "3PT35pqm-HjO",
        "outputId": "b86bd8a8-2344-41d5-83ba-77e2bcd2a3bc"
      },
      "outputs": [
        {
          "output_type": "stream",
          "name": "stdout",
          "text": [
            "Collecting mglearn\n",
            "  Downloading mglearn-0.1.9.tar.gz (540 kB)\n",
            "\u001b[K     |████████████████████████████████| 540 kB 4.2 MB/s \n",
            "\u001b[?25hRequirement already satisfied: numpy in /usr/local/lib/python3.7/dist-packages (from mglearn) (1.21.6)\n",
            "Requirement already satisfied: matplotlib in /usr/local/lib/python3.7/dist-packages (from mglearn) (3.2.2)\n",
            "Requirement already satisfied: scikit-learn in /usr/local/lib/python3.7/dist-packages (from mglearn) (1.0.2)\n",
            "Requirement already satisfied: pandas in /usr/local/lib/python3.7/dist-packages (from mglearn) (1.3.5)\n",
            "Requirement already satisfied: pillow in /usr/local/lib/python3.7/dist-packages (from mglearn) (7.1.2)\n",
            "Requirement already satisfied: cycler in /usr/local/lib/python3.7/dist-packages (from mglearn) (0.11.0)\n",
            "Requirement already satisfied: imageio in /usr/local/lib/python3.7/dist-packages (from mglearn) (2.4.1)\n",
            "Requirement already satisfied: joblib in /usr/local/lib/python3.7/dist-packages (from mglearn) (1.1.0)\n",
            "Requirement already satisfied: python-dateutil>=2.1 in /usr/local/lib/python3.7/dist-packages (from matplotlib->mglearn) (2.8.2)\n",
            "Requirement already satisfied: kiwisolver>=1.0.1 in /usr/local/lib/python3.7/dist-packages (from matplotlib->mglearn) (1.4.2)\n",
            "Requirement already satisfied: pyparsing!=2.0.4,!=2.1.2,!=2.1.6,>=2.0.1 in /usr/local/lib/python3.7/dist-packages (from matplotlib->mglearn) (3.0.8)\n",
            "Requirement already satisfied: typing-extensions in /usr/local/lib/python3.7/dist-packages (from kiwisolver>=1.0.1->matplotlib->mglearn) (4.2.0)\n",
            "Requirement already satisfied: six>=1.5 in /usr/local/lib/python3.7/dist-packages (from python-dateutil>=2.1->matplotlib->mglearn) (1.15.0)\n",
            "Requirement already satisfied: pytz>=2017.3 in /usr/local/lib/python3.7/dist-packages (from pandas->mglearn) (2022.1)\n",
            "Requirement already satisfied: scipy>=1.1.0 in /usr/local/lib/python3.7/dist-packages (from scikit-learn->mglearn) (1.4.1)\n",
            "Requirement already satisfied: threadpoolctl>=2.0.0 in /usr/local/lib/python3.7/dist-packages (from scikit-learn->mglearn) (3.1.0)\n",
            "Building wheels for collected packages: mglearn\n",
            "  Building wheel for mglearn (setup.py) ... \u001b[?25l\u001b[?25hdone\n",
            "  Created wheel for mglearn: filename=mglearn-0.1.9-py2.py3-none-any.whl size=582639 sha256=a0ae7c6bedfa9f97ab2a93aa359847e554eb11d30249264622dcc00a10e8cc00\n",
            "  Stored in directory: /root/.cache/pip/wheels/f1/17/e1/1720d6dcd70187b6b6c3750cb3508798f2b1d57c9d3214b08b\n",
            "Successfully built mglearn\n",
            "Installing collected packages: mglearn\n",
            "Successfully installed mglearn-0.1.9\n"
          ]
        }
      ],
      "source": [
        "!pip install mglearn"
      ]
    },
    {
      "cell_type": "code",
      "source": [
        "import sys\n",
        "print(f\"Python version: {sys.version}\")\n",
        "import pandas as pd\n",
        "print(f\"Pandas version: {pd.__version__}\")\n",
        "import numpy as np\n",
        "print(f\"Numpy version: {np.__version__}\")\n",
        "import matplotlib\n",
        "print(f\"Matplotlib version: {matplotlib.__version__}\")\n",
        "import matplotlib.pyplot as plt\n",
        "import mglearn\n",
        "print(f\"Mglearn version: {mglearn.__version__}\")\n",
        "import scipy as sp\n",
        "print(f\"Scipy version: {sp.__version__}\")\n",
        "import sklearn\n",
        "print(f\"Sklearn version: {sklearn.__version__}\")"
      ],
      "metadata": {
        "colab": {
          "base_uri": "https://localhost:8080/"
        },
        "id": "9AibPcO1CBt0",
        "outputId": "25b0356a-df20-4a7f-ca7f-d844f6dae4dd"
      },
      "execution_count": 2,
      "outputs": [
        {
          "output_type": "stream",
          "name": "stdout",
          "text": [
            "Python version: 3.7.13 (default, Apr 24 2022, 01:04:09) \n",
            "[GCC 7.5.0]\n",
            "Pandas version: 1.3.5\n",
            "Numpy version: 1.21.6\n",
            "Matplotlib version: 3.2.2\n",
            "Mglearn version: 0.1.9\n",
            "Scipy version: 1.4.1\n",
            "Sklearn version: 1.0.2\n"
          ]
        }
      ]
    },
    {
      "cell_type": "code",
      "source": [
        "# desativar avisos\n",
        "import warnings\n",
        "warnings.filterwarnings('ignore')"
      ],
      "metadata": {
        "id": "rH4OtO0bCHxM"
      },
      "execution_count": 3,
      "outputs": []
    },
    {
      "cell_type": "code",
      "source": [
        "# habilitar a plotagem no notebook\n",
        "%matplotlib inline\n",
        "#from preamble import *\n",
        "plt.rcParams['image.cmap'] = \"gray\""
      ],
      "metadata": {
        "id": "5oI4dMGJCMP1"
      },
      "execution_count": 4,
      "outputs": []
    },
    {
      "cell_type": "code",
      "source": [
        "# retira notação científica\n",
        "pd.options.display.float_format = '{:.4f}'.format"
      ],
      "metadata": {
        "id": "Mwc-Z6QqCMN9"
      },
      "execution_count": 5,
      "outputs": []
    },
    {
      "cell_type": "markdown",
      "source": [
        "<hr color = 'B7FF80'>\n",
        "\n",
        "#<h1 align = 'right'><font color = 'c77dff' size = +3.5><b>Representação de dados e Engenharia de Recursos</b></font></h1>\n",
        "<hr color = 'B7FF80'>"
      ],
      "metadata": {
        "id": "tvI1FPxc_RUX"
      }
    },
    {
      "cell_type": "markdown",
      "source": [
        "Até agora, assumimos que nossos dados vêm como uma matriz bidimensional de números de ponto flutuante, onde cada coluna é um recurso contínuo que descreve os pontos de dados. Para muitos aplicações, não é assim que os dados são coletados. Um tipo de recurso particularmente comum são os recursos categóricos. Também conhecidos como recursos discretos,\n",
        "estes geralmente não são numéricos. A distinção entre características categóricas e características contínuas é análoga à distinção entre classificação e regressão, apenas no lado da entrada e não no lado da saída. Exemplos de recursos contínuos que vimos são brilhos de pixel e medidas de tamanho de flores de plantas. Exemplos de características categóricas são a marca de um produto, a cor de um produto ou o departamento (livros, roupas, hardware) em que é vendido. Todas essas são propriedades que podem descrever um produto, mas não variam em um maneira contínua. Um produto pertence ao departamento de roupas ou ao departamento de livros. Não há meio solo entre livros e roupas, e nenhuma ordem natural para as diferentes categorias (livros não é maior ou menor que roupas, hardware não é entre livros e roupas, etc.)."
      ],
      "metadata": {
        "id": "-TY8OiekDZI3"
      }
    },
    {
      "cell_type": "markdown",
      "source": [
        "Independentemente dos tipos de recursos em que seus dados consistem, a forma como você os representa pode ter um efeito enorme no desempenho dos modelos de aprendizado de máquina. Vimos nos Capítulos 2 e 3 que o dimensionamento dos dados é importante. Em outras palavras, se você não redimensionar seus dados (digamos, para a variação da unidade), fará diferença se você representa uma medida em centímetros ou polegadas. Também vimos no Capítulo 2 que pode ser útil aumentar seus dados com recursos adicionais, como adicionar interações (produtos) de recursos ou polinômios mais gerais."
      ],
      "metadata": {
        "id": "4hfJYSVyEyvJ"
      }
    },
    {
      "cell_type": "markdown",
      "source": [
        "A questão de como representar melhor seus dados para um aplicativo específico é conhecida como *feature engineering* (engenharia de recursos) e é uma das principais tarefas dos cientistas de dados e praticantes de aprendizado de máquina que tentam resolver problemas do mundo real. Representar seus dados da maneira correta pode ter uma influência maior no desempenho de um modelo supervisionado do que os parâmetros exatos que você escolher."
      ],
      "metadata": {
        "id": "n3xSni23FQ-P"
      }
    },
    {
      "cell_type": "markdown",
      "source": [
        "Neste capítulo, examinaremos primeiro o caso importante e muito comum de recursos categóricos e, em seguida, daremos alguns exemplos de transformações úteis para combinações específicas de recursos e modelos."
      ],
      "metadata": {
        "id": "WjSab2l6FylU"
      }
    },
    {
      "cell_type": "markdown",
      "source": [
        "#**Variáveis ​​categóricas**"
      ],
      "metadata": {
        "id": "tJXJj8FnNsri"
      }
    },
    {
      "cell_type": "markdown",
      "source": [
        "Como exemplo, usaremos o conjunto de dados de renda de adultos nos Estados Unidos, derivado do banco de dados do censo de 1994. A tarefa do conjunto de dados adulto é prever se um trabalhador tem uma renda superior a US$ 50.000 ou inferior a US$ 50.000. As características neste conjunto de dados incluem a idade dos trabalhadores, como eles são empregados (autônomos, indústria privada\n",
        "funcionário, funcionário do governo, etc.), sua educação, seu gênero, suas horas de trabalho por semana, ocupação e muito mais."
      ],
      "metadata": {
        "id": "SPLNOBhfOE8a"
      }
    },
    {
      "cell_type": "markdown",
      "source": [
        "A tarefa é formulada como uma tarefa de classificação com as duas classes sendo renda <=50k e >50k. Também seria possível prever a renda exata e fazer disso uma tarefa de regressão. No entanto, isso seria muito mais difícil, e a divisão de 50K é interessante de entender por conta própria."
      ],
      "metadata": {
        "id": "6z12FrvMP93O"
      }
    },
    {
      "cell_type": "markdown",
      "source": [
        "Neste conjunto de dados, a idade e as horas por semana são características contínuas, que sabemos como tratar. As características da classe de trabalho, educação, sexo e ocupação são categóricas, no entanto. Todos eles vêm de uma lista fixa de valores possíveis, em oposição a um intervalo, e denotam uma propriedade qualitativa, em oposição a uma quantidade."
      ],
      "metadata": {
        "id": "cHplRL7AQPOY"
      }
    },
    {
      "cell_type": "markdown",
      "source": [
        "Como ponto de partida, digamos que queremos aprender um classificador de regressão logística nesses dados. Sabemos do Capítulo 2 que uma regressão logística faz previsões, ŷ, usando a seguinte fórmula:\n",
        ">ŷ = w[0] * x[0] + w[1] * x[1] + ... + w[p] * x[p] + b > 0\n",
        "\n",
        "onde w[i] e b são os coeficientes aprendidos do conjunto de treinamento e x[i] são os recursos de entrada. Esta fórmula faz sentido quando x[i] são números, mas não quando x[2] é \"Mestres\" ou \"Bacharelados\". Claramente, precisamos representar nossos dados em alguns maneira ao aplicar a regressão logística. A próxima seção explicará como podemos superar este problema."
      ],
      "metadata": {
        "id": "t9lZ_Q_kRTAM"
      }
    },
    {
      "cell_type": "markdown",
      "source": [
        "#**Hot-Encoding (Dummy Variables)**"
      ],
      "metadata": {
        "id": "3TAVWYZZR7al"
      }
    },
    {
      "cell_type": "markdown",
      "source": [
        "De longe, a maneira mais comum de representar variáveis categóricas é usando a codificação one-hotencoding ou one-out-of-N, também conhecida como variáveis fictícias. A ideia por trás das variáveis fictícias é substituir uma variável categórica por um ou mais novos recursos que podem ter os valores 0 e 1. Os valores 0 e 1 fazem sentido na fórmula para classificação binária linear (e para todos os outros modelos no scikit-learn), e podemos representar qualquer número de categorias introduzindo um novo recurso por categoria, conforme descrito aqui."
      ],
      "metadata": {
        "id": "gfBiUQOeSMuD"
      }
    },
    {
      "cell_type": "markdown",
      "source": [
        "Digamos que para o recurso de classe de trabalho temos valores possíveis de \"Government Employee\", \"Private Employee\", \"Self Employed\" e \"Self Employed Incorporated\". Para codificar esses quatro valores possíveis, criamos quatro novos recursos, chamados de \"Government Employee\", \"Private Employee\", \"Self Employed\", and \"Self Employed Incorporated\". Um recurso é 1 se a classe de trabalho para essa pessoa tiver o valor correspondente e 0 caso contrário, exatamente um dos quatro novos recursos será 1 para cada ponto de dados. É por isso que isso é chamado de codificação one-hot ou one-out-of-N."
      ],
      "metadata": {
        "id": "71O4ivKDSuHv"
      }
    },
    {
      "cell_type": "markdown",
      "source": [
        "Um único recurso é codificado usando quatro novos recursos. Ao usar esses dados em um algoritmo de aprendizado de máquina, descartamos o recurso de classe de trabalho original e mantemos apenas os recursos de 0 a 1."
      ],
      "metadata": {
        "id": "EsqFgKuQUR2D"
      }
    },
    {
      "cell_type": "markdown",
      "source": [
        ">A codificação one-hot que usamos é bastante semelhante, mas não idêntica, à\n",
        "a codificação fictícia usada nas estatísticas. Para simplificar, codificamos\n",
        "cada categoria com um recurso binário diferente. Em estatística, é comum codificar uma característica categórica com k diferentes valores possíveis em k–1 características (a última é representada como todos os zeros). Isso é feito para simplificar a análise (mais tecnicamente, isso evitará tornar a matriz de dados deficiente em classificação)."
      ],
      "metadata": {
        "id": "hQKaijeRUj8L"
      }
    },
    {
      "cell_type": "markdown",
      "source": [
        "Existem duas maneiras de converter seus dados em uma codificação one-hot de variáveis categóricas, usando pandas ou scikit-learn. No momento em que escrevo, usar pandas é um pouco mais fácil, então vamos por esse caminho. Primeiro carregamos os dados usando pandas de um arquivo de valores separados por vírgula (CSV):"
      ],
      "metadata": {
        "id": "7v4JBAG1U-Po"
      }
    },
    {
      "cell_type": "code",
      "source": [
        "import os\n",
        "# O arquivo não tem cabeçalhos nomeando as colunas, então passamos header=None\n",
        "# e forneçemos os nomes das colunas explicitamente em \"names\"\n",
        "adult_path = os.path.join(mglearn.datasets.DATA_PATH, \"adult.data\")\n",
        "data = pd.read_csv(\n",
        "    adult_path, header = None, index_col = False,\n",
        "    names=['age', 'workclass', 'fnlwgt', 'education',  'education-num',\n",
        "           'marital-status', 'occupation', 'relationship', 'race', 'gender',\n",
        "           'capital-gain', 'capital-loss', 'hours-per-week', 'native-country',\n",
        "           'income'])\n",
        "# Para fins de ilustração, selecionamos apenas algumas das colunas\n",
        "data = data[['age', 'workclass', 'education', 'gender', 'hours-per-week',\n",
        "             'occupation', 'income']]\n",
        "# IPython.display permite uma boa formatação de saída no notebook Jupyter\n",
        "display(data.head())"
      ],
      "metadata": {
        "colab": {
          "base_uri": "https://localhost:8080/",
          "height": 206
        },
        "id": "YvsuxqG1Ely-",
        "outputId": "6def19b3-7fae-41af-8b1f-2406a0522e15"
      },
      "execution_count": 6,
      "outputs": [
        {
          "output_type": "display_data",
          "data": {
            "text/plain": [
              "   age          workclass   education   gender  hours-per-week  \\\n",
              "0   39          State-gov   Bachelors     Male              40   \n",
              "1   50   Self-emp-not-inc   Bachelors     Male              13   \n",
              "2   38            Private     HS-grad     Male              40   \n",
              "3   53            Private        11th     Male              40   \n",
              "4   28            Private   Bachelors   Female              40   \n",
              "\n",
              "           occupation  income  \n",
              "0        Adm-clerical   <=50K  \n",
              "1     Exec-managerial   <=50K  \n",
              "2   Handlers-cleaners   <=50K  \n",
              "3   Handlers-cleaners   <=50K  \n",
              "4      Prof-specialty   <=50K  "
            ],
            "text/html": [
              "\n",
              "  <div id=\"df-c305cba1-ed1f-44bd-b09b-d99a703fbe66\">\n",
              "    <div class=\"colab-df-container\">\n",
              "      <div>\n",
              "<style scoped>\n",
              "    .dataframe tbody tr th:only-of-type {\n",
              "        vertical-align: middle;\n",
              "    }\n",
              "\n",
              "    .dataframe tbody tr th {\n",
              "        vertical-align: top;\n",
              "    }\n",
              "\n",
              "    .dataframe thead th {\n",
              "        text-align: right;\n",
              "    }\n",
              "</style>\n",
              "<table border=\"1\" class=\"dataframe\">\n",
              "  <thead>\n",
              "    <tr style=\"text-align: right;\">\n",
              "      <th></th>\n",
              "      <th>age</th>\n",
              "      <th>workclass</th>\n",
              "      <th>education</th>\n",
              "      <th>gender</th>\n",
              "      <th>hours-per-week</th>\n",
              "      <th>occupation</th>\n",
              "      <th>income</th>\n",
              "    </tr>\n",
              "  </thead>\n",
              "  <tbody>\n",
              "    <tr>\n",
              "      <th>0</th>\n",
              "      <td>39</td>\n",
              "      <td>State-gov</td>\n",
              "      <td>Bachelors</td>\n",
              "      <td>Male</td>\n",
              "      <td>40</td>\n",
              "      <td>Adm-clerical</td>\n",
              "      <td>&lt;=50K</td>\n",
              "    </tr>\n",
              "    <tr>\n",
              "      <th>1</th>\n",
              "      <td>50</td>\n",
              "      <td>Self-emp-not-inc</td>\n",
              "      <td>Bachelors</td>\n",
              "      <td>Male</td>\n",
              "      <td>13</td>\n",
              "      <td>Exec-managerial</td>\n",
              "      <td>&lt;=50K</td>\n",
              "    </tr>\n",
              "    <tr>\n",
              "      <th>2</th>\n",
              "      <td>38</td>\n",
              "      <td>Private</td>\n",
              "      <td>HS-grad</td>\n",
              "      <td>Male</td>\n",
              "      <td>40</td>\n",
              "      <td>Handlers-cleaners</td>\n",
              "      <td>&lt;=50K</td>\n",
              "    </tr>\n",
              "    <tr>\n",
              "      <th>3</th>\n",
              "      <td>53</td>\n",
              "      <td>Private</td>\n",
              "      <td>11th</td>\n",
              "      <td>Male</td>\n",
              "      <td>40</td>\n",
              "      <td>Handlers-cleaners</td>\n",
              "      <td>&lt;=50K</td>\n",
              "    </tr>\n",
              "    <tr>\n",
              "      <th>4</th>\n",
              "      <td>28</td>\n",
              "      <td>Private</td>\n",
              "      <td>Bachelors</td>\n",
              "      <td>Female</td>\n",
              "      <td>40</td>\n",
              "      <td>Prof-specialty</td>\n",
              "      <td>&lt;=50K</td>\n",
              "    </tr>\n",
              "  </tbody>\n",
              "</table>\n",
              "</div>\n",
              "      <button class=\"colab-df-convert\" onclick=\"convertToInteractive('df-c305cba1-ed1f-44bd-b09b-d99a703fbe66')\"\n",
              "              title=\"Convert this dataframe to an interactive table.\"\n",
              "              style=\"display:none;\">\n",
              "        \n",
              "  <svg xmlns=\"http://www.w3.org/2000/svg\" height=\"24px\"viewBox=\"0 0 24 24\"\n",
              "       width=\"24px\">\n",
              "    <path d=\"M0 0h24v24H0V0z\" fill=\"none\"/>\n",
              "    <path d=\"M18.56 5.44l.94 2.06.94-2.06 2.06-.94-2.06-.94-.94-2.06-.94 2.06-2.06.94zm-11 1L8.5 8.5l.94-2.06 2.06-.94-2.06-.94L8.5 2.5l-.94 2.06-2.06.94zm10 10l.94 2.06.94-2.06 2.06-.94-2.06-.94-.94-2.06-.94 2.06-2.06.94z\"/><path d=\"M17.41 7.96l-1.37-1.37c-.4-.4-.92-.59-1.43-.59-.52 0-1.04.2-1.43.59L10.3 9.45l-7.72 7.72c-.78.78-.78 2.05 0 2.83L4 21.41c.39.39.9.59 1.41.59.51 0 1.02-.2 1.41-.59l7.78-7.78 2.81-2.81c.8-.78.8-2.07 0-2.86zM5.41 20L4 18.59l7.72-7.72 1.47 1.35L5.41 20z\"/>\n",
              "  </svg>\n",
              "      </button>\n",
              "      \n",
              "  <style>\n",
              "    .colab-df-container {\n",
              "      display:flex;\n",
              "      flex-wrap:wrap;\n",
              "      gap: 12px;\n",
              "    }\n",
              "\n",
              "    .colab-df-convert {\n",
              "      background-color: #E8F0FE;\n",
              "      border: none;\n",
              "      border-radius: 50%;\n",
              "      cursor: pointer;\n",
              "      display: none;\n",
              "      fill: #1967D2;\n",
              "      height: 32px;\n",
              "      padding: 0 0 0 0;\n",
              "      width: 32px;\n",
              "    }\n",
              "\n",
              "    .colab-df-convert:hover {\n",
              "      background-color: #E2EBFA;\n",
              "      box-shadow: 0px 1px 2px rgba(60, 64, 67, 0.3), 0px 1px 3px 1px rgba(60, 64, 67, 0.15);\n",
              "      fill: #174EA6;\n",
              "    }\n",
              "\n",
              "    [theme=dark] .colab-df-convert {\n",
              "      background-color: #3B4455;\n",
              "      fill: #D2E3FC;\n",
              "    }\n",
              "\n",
              "    [theme=dark] .colab-df-convert:hover {\n",
              "      background-color: #434B5C;\n",
              "      box-shadow: 0px 1px 3px 1px rgba(0, 0, 0, 0.15);\n",
              "      filter: drop-shadow(0px 1px 2px rgba(0, 0, 0, 0.3));\n",
              "      fill: #FFFFFF;\n",
              "    }\n",
              "  </style>\n",
              "\n",
              "      <script>\n",
              "        const buttonEl =\n",
              "          document.querySelector('#df-c305cba1-ed1f-44bd-b09b-d99a703fbe66 button.colab-df-convert');\n",
              "        buttonEl.style.display =\n",
              "          google.colab.kernel.accessAllowed ? 'block' : 'none';\n",
              "\n",
              "        async function convertToInteractive(key) {\n",
              "          const element = document.querySelector('#df-c305cba1-ed1f-44bd-b09b-d99a703fbe66');\n",
              "          const dataTable =\n",
              "            await google.colab.kernel.invokeFunction('convertToInteractive',\n",
              "                                                     [key], {});\n",
              "          if (!dataTable) return;\n",
              "\n",
              "          const docLinkHtml = 'Like what you see? Visit the ' +\n",
              "            '<a target=\"_blank\" href=https://colab.research.google.com/notebooks/data_table.ipynb>data table notebook</a>'\n",
              "            + ' to learn more about interactive tables.';\n",
              "          element.innerHTML = '';\n",
              "          dataTable['output_type'] = 'display_data';\n",
              "          await google.colab.output.renderOutput(dataTable, element);\n",
              "          const docLink = document.createElement('div');\n",
              "          docLink.innerHTML = docLinkHtml;\n",
              "          element.appendChild(docLink);\n",
              "        }\n",
              "      </script>\n",
              "    </div>\n",
              "  </div>\n",
              "  "
            ]
          },
          "metadata": {}
        }
      ]
    },
    {
      "cell_type": "markdown",
      "source": [
        "#**Verificando dados categóricos codificados em string**"
      ],
      "metadata": {
        "id": "CWyfbANiWiLg"
      }
    },
    {
      "cell_type": "markdown",
      "source": [
        "Depois de ler um conjunto de dados como esse, geralmente é bom verificar primeiro se uma coluna realmente contém dados categóricos significativos. Ao trabalhar com dados que foram inseridos por humanos (digamos, usuários em um site), pode não haver um conjunto fixo de categorias e diferenças na ortografia e capitalização podem exigir pré-processamento. Por exemplo, pode ser que algumas pessoas especifiquem o gênero como “masculino” e outras como “homem”, e talvez queiramos representar essas duas entradas usando a mesma categoria. Uma boa maneira de verificar o conteúdo de uma coluna é usar a função value_counts de uma série pandas (o tipo de uma única coluna em um DataFrame), para nos mostrar quais são os valores exclusivos e com que frequência eles aparecem:"
      ],
      "metadata": {
        "id": "fM8GOHAcWzd7"
      }
    },
    {
      "cell_type": "code",
      "source": [
        "data['gender'].value_counts()"
      ],
      "metadata": {
        "colab": {
          "base_uri": "https://localhost:8080/"
        },
        "id": "QNlDNgvAWL3I",
        "outputId": "dfa2d5d9-b8e6-4372-f847-12f2eb156682"
      },
      "execution_count": 8,
      "outputs": [
        {
          "output_type": "execute_result",
          "data": {
            "text/plain": [
              " Male      21790\n",
              " Female    10771\n",
              "Name: gender, dtype: int64"
            ]
          },
          "metadata": {},
          "execution_count": 8
        }
      ]
    },
    {
      "cell_type": "markdown",
      "source": [
        "Podemos ver que existem exatamente dois valores para gênero neste conjunto de dados, Male e Female, o que significa que os dados já estão em um bom formato para serem representados usando a codificação one-hot. Em uma aplicação real, você deve observar todas as colunas e verificar seus valores. Vamos pular isso aqui por uma questão de brevidade."
      ],
      "metadata": {
        "id": "LmTu-tK5Xe40"
      }
    },
    {
      "cell_type": "markdown",
      "source": [
        "Existe uma maneira muito simples de codificar os dados em pandas, usando a função `get_dummies`. A função `get_dummies` transforma automaticamente todas as colunas que possuem tipo de objeto (como strings) ou são categóricas (que é um conceito especial de pandas sobre o qual ainda não falamos):"
      ],
      "metadata": {
        "id": "u2ITVux9X6Wb"
      }
    },
    {
      "cell_type": "code",
      "source": [
        "print(f\"Original features:\\n{list(data.columns)}\\n\")\n",
        "data_dummies = pd.get_dummies(data)\n",
        "print(f\"Features after get_dummies:\\n {list(data_dummies.columns)}\")"
      ],
      "metadata": {
        "colab": {
          "base_uri": "https://localhost:8080/"
        },
        "id": "SFxpofQFXPG7",
        "outputId": "1d7f4eb4-e11a-4972-ff76-3340e1811336"
      },
      "execution_count": 9,
      "outputs": [
        {
          "output_type": "stream",
          "name": "stdout",
          "text": [
            "Original features:\n",
            "['age', 'workclass', 'education', 'gender', 'hours-per-week', 'occupation', 'income']\n",
            "\n",
            "Features after get_dummies:\n",
            " ['age', 'hours-per-week', 'workclass_ ?', 'workclass_ Federal-gov', 'workclass_ Local-gov', 'workclass_ Never-worked', 'workclass_ Private', 'workclass_ Self-emp-inc', 'workclass_ Self-emp-not-inc', 'workclass_ State-gov', 'workclass_ Without-pay', 'education_ 10th', 'education_ 11th', 'education_ 12th', 'education_ 1st-4th', 'education_ 5th-6th', 'education_ 7th-8th', 'education_ 9th', 'education_ Assoc-acdm', 'education_ Assoc-voc', 'education_ Bachelors', 'education_ Doctorate', 'education_ HS-grad', 'education_ Masters', 'education_ Preschool', 'education_ Prof-school', 'education_ Some-college', 'gender_ Female', 'gender_ Male', 'occupation_ ?', 'occupation_ Adm-clerical', 'occupation_ Armed-Forces', 'occupation_ Craft-repair', 'occupation_ Exec-managerial', 'occupation_ Farming-fishing', 'occupation_ Handlers-cleaners', 'occupation_ Machine-op-inspct', 'occupation_ Other-service', 'occupation_ Priv-house-serv', 'occupation_ Prof-specialty', 'occupation_ Protective-serv', 'occupation_ Sales', 'occupation_ Tech-support', 'occupation_ Transport-moving', 'income_ <=50K', 'income_ >50K']\n"
          ]
        }
      ]
    },
    {
      "cell_type": "markdown",
      "source": [
        "Você pode ver que a idade dos recursos contínuos e as horas por semana não foram alteradas, enquanto os recursos categóricos foram expandidos em um novo recurso para cada valor possível:"
      ],
      "metadata": {
        "id": "J8ptWssGZYjo"
      }
    },
    {
      "cell_type": "code",
      "source": [
        "data_dummies.head()"
      ],
      "metadata": {
        "colab": {
          "base_uri": "https://localhost:8080/",
          "height": 334
        },
        "id": "Y8CH98isZCzo",
        "outputId": "8d49d238-024b-4e49-ec5c-290e0dd9bf9f"
      },
      "execution_count": 10,
      "outputs": [
        {
          "output_type": "execute_result",
          "data": {
            "text/plain": [
              "   age  hours-per-week  workclass_ ?  workclass_ Federal-gov  \\\n",
              "0   39              40             0                       0   \n",
              "1   50              13             0                       0   \n",
              "2   38              40             0                       0   \n",
              "3   53              40             0                       0   \n",
              "4   28              40             0                       0   \n",
              "\n",
              "   workclass_ Local-gov  workclass_ Never-worked  workclass_ Private  \\\n",
              "0                     0                        0                   0   \n",
              "1                     0                        0                   0   \n",
              "2                     0                        0                   1   \n",
              "3                     0                        0                   1   \n",
              "4                     0                        0                   1   \n",
              "\n",
              "   workclass_ Self-emp-inc  workclass_ Self-emp-not-inc  workclass_ State-gov  \\\n",
              "0                        0                            0                     1   \n",
              "1                        0                            1                     0   \n",
              "2                        0                            0                     0   \n",
              "3                        0                            0                     0   \n",
              "4                        0                            0                     0   \n",
              "\n",
              "   ...  occupation_ Machine-op-inspct  occupation_ Other-service  \\\n",
              "0  ...                              0                          0   \n",
              "1  ...                              0                          0   \n",
              "2  ...                              0                          0   \n",
              "3  ...                              0                          0   \n",
              "4  ...                              0                          0   \n",
              "\n",
              "   occupation_ Priv-house-serv  occupation_ Prof-specialty  \\\n",
              "0                            0                           0   \n",
              "1                            0                           0   \n",
              "2                            0                           0   \n",
              "3                            0                           0   \n",
              "4                            0                           1   \n",
              "\n",
              "   occupation_ Protective-serv  occupation_ Sales  occupation_ Tech-support  \\\n",
              "0                            0                  0                         0   \n",
              "1                            0                  0                         0   \n",
              "2                            0                  0                         0   \n",
              "3                            0                  0                         0   \n",
              "4                            0                  0                         0   \n",
              "\n",
              "   occupation_ Transport-moving  income_ <=50K  income_ >50K  \n",
              "0                             0              1             0  \n",
              "1                             0              1             0  \n",
              "2                             0              1             0  \n",
              "3                             0              1             0  \n",
              "4                             0              1             0  \n",
              "\n",
              "[5 rows x 46 columns]"
            ],
            "text/html": [
              "\n",
              "  <div id=\"df-77b7fed1-0abf-45a0-9f99-6149d80dd161\">\n",
              "    <div class=\"colab-df-container\">\n",
              "      <div>\n",
              "<style scoped>\n",
              "    .dataframe tbody tr th:only-of-type {\n",
              "        vertical-align: middle;\n",
              "    }\n",
              "\n",
              "    .dataframe tbody tr th {\n",
              "        vertical-align: top;\n",
              "    }\n",
              "\n",
              "    .dataframe thead th {\n",
              "        text-align: right;\n",
              "    }\n",
              "</style>\n",
              "<table border=\"1\" class=\"dataframe\">\n",
              "  <thead>\n",
              "    <tr style=\"text-align: right;\">\n",
              "      <th></th>\n",
              "      <th>age</th>\n",
              "      <th>hours-per-week</th>\n",
              "      <th>workclass_ ?</th>\n",
              "      <th>workclass_ Federal-gov</th>\n",
              "      <th>workclass_ Local-gov</th>\n",
              "      <th>workclass_ Never-worked</th>\n",
              "      <th>workclass_ Private</th>\n",
              "      <th>workclass_ Self-emp-inc</th>\n",
              "      <th>workclass_ Self-emp-not-inc</th>\n",
              "      <th>workclass_ State-gov</th>\n",
              "      <th>...</th>\n",
              "      <th>occupation_ Machine-op-inspct</th>\n",
              "      <th>occupation_ Other-service</th>\n",
              "      <th>occupation_ Priv-house-serv</th>\n",
              "      <th>occupation_ Prof-specialty</th>\n",
              "      <th>occupation_ Protective-serv</th>\n",
              "      <th>occupation_ Sales</th>\n",
              "      <th>occupation_ Tech-support</th>\n",
              "      <th>occupation_ Transport-moving</th>\n",
              "      <th>income_ &lt;=50K</th>\n",
              "      <th>income_ &gt;50K</th>\n",
              "    </tr>\n",
              "  </thead>\n",
              "  <tbody>\n",
              "    <tr>\n",
              "      <th>0</th>\n",
              "      <td>39</td>\n",
              "      <td>40</td>\n",
              "      <td>0</td>\n",
              "      <td>0</td>\n",
              "      <td>0</td>\n",
              "      <td>0</td>\n",
              "      <td>0</td>\n",
              "      <td>0</td>\n",
              "      <td>0</td>\n",
              "      <td>1</td>\n",
              "      <td>...</td>\n",
              "      <td>0</td>\n",
              "      <td>0</td>\n",
              "      <td>0</td>\n",
              "      <td>0</td>\n",
              "      <td>0</td>\n",
              "      <td>0</td>\n",
              "      <td>0</td>\n",
              "      <td>0</td>\n",
              "      <td>1</td>\n",
              "      <td>0</td>\n",
              "    </tr>\n",
              "    <tr>\n",
              "      <th>1</th>\n",
              "      <td>50</td>\n",
              "      <td>13</td>\n",
              "      <td>0</td>\n",
              "      <td>0</td>\n",
              "      <td>0</td>\n",
              "      <td>0</td>\n",
              "      <td>0</td>\n",
              "      <td>0</td>\n",
              "      <td>1</td>\n",
              "      <td>0</td>\n",
              "      <td>...</td>\n",
              "      <td>0</td>\n",
              "      <td>0</td>\n",
              "      <td>0</td>\n",
              "      <td>0</td>\n",
              "      <td>0</td>\n",
              "      <td>0</td>\n",
              "      <td>0</td>\n",
              "      <td>0</td>\n",
              "      <td>1</td>\n",
              "      <td>0</td>\n",
              "    </tr>\n",
              "    <tr>\n",
              "      <th>2</th>\n",
              "      <td>38</td>\n",
              "      <td>40</td>\n",
              "      <td>0</td>\n",
              "      <td>0</td>\n",
              "      <td>0</td>\n",
              "      <td>0</td>\n",
              "      <td>1</td>\n",
              "      <td>0</td>\n",
              "      <td>0</td>\n",
              "      <td>0</td>\n",
              "      <td>...</td>\n",
              "      <td>0</td>\n",
              "      <td>0</td>\n",
              "      <td>0</td>\n",
              "      <td>0</td>\n",
              "      <td>0</td>\n",
              "      <td>0</td>\n",
              "      <td>0</td>\n",
              "      <td>0</td>\n",
              "      <td>1</td>\n",
              "      <td>0</td>\n",
              "    </tr>\n",
              "    <tr>\n",
              "      <th>3</th>\n",
              "      <td>53</td>\n",
              "      <td>40</td>\n",
              "      <td>0</td>\n",
              "      <td>0</td>\n",
              "      <td>0</td>\n",
              "      <td>0</td>\n",
              "      <td>1</td>\n",
              "      <td>0</td>\n",
              "      <td>0</td>\n",
              "      <td>0</td>\n",
              "      <td>...</td>\n",
              "      <td>0</td>\n",
              "      <td>0</td>\n",
              "      <td>0</td>\n",
              "      <td>0</td>\n",
              "      <td>0</td>\n",
              "      <td>0</td>\n",
              "      <td>0</td>\n",
              "      <td>0</td>\n",
              "      <td>1</td>\n",
              "      <td>0</td>\n",
              "    </tr>\n",
              "    <tr>\n",
              "      <th>4</th>\n",
              "      <td>28</td>\n",
              "      <td>40</td>\n",
              "      <td>0</td>\n",
              "      <td>0</td>\n",
              "      <td>0</td>\n",
              "      <td>0</td>\n",
              "      <td>1</td>\n",
              "      <td>0</td>\n",
              "      <td>0</td>\n",
              "      <td>0</td>\n",
              "      <td>...</td>\n",
              "      <td>0</td>\n",
              "      <td>0</td>\n",
              "      <td>0</td>\n",
              "      <td>1</td>\n",
              "      <td>0</td>\n",
              "      <td>0</td>\n",
              "      <td>0</td>\n",
              "      <td>0</td>\n",
              "      <td>1</td>\n",
              "      <td>0</td>\n",
              "    </tr>\n",
              "  </tbody>\n",
              "</table>\n",
              "<p>5 rows × 46 columns</p>\n",
              "</div>\n",
              "      <button class=\"colab-df-convert\" onclick=\"convertToInteractive('df-77b7fed1-0abf-45a0-9f99-6149d80dd161')\"\n",
              "              title=\"Convert this dataframe to an interactive table.\"\n",
              "              style=\"display:none;\">\n",
              "        \n",
              "  <svg xmlns=\"http://www.w3.org/2000/svg\" height=\"24px\"viewBox=\"0 0 24 24\"\n",
              "       width=\"24px\">\n",
              "    <path d=\"M0 0h24v24H0V0z\" fill=\"none\"/>\n",
              "    <path d=\"M18.56 5.44l.94 2.06.94-2.06 2.06-.94-2.06-.94-.94-2.06-.94 2.06-2.06.94zm-11 1L8.5 8.5l.94-2.06 2.06-.94-2.06-.94L8.5 2.5l-.94 2.06-2.06.94zm10 10l.94 2.06.94-2.06 2.06-.94-2.06-.94-.94-2.06-.94 2.06-2.06.94z\"/><path d=\"M17.41 7.96l-1.37-1.37c-.4-.4-.92-.59-1.43-.59-.52 0-1.04.2-1.43.59L10.3 9.45l-7.72 7.72c-.78.78-.78 2.05 0 2.83L4 21.41c.39.39.9.59 1.41.59.51 0 1.02-.2 1.41-.59l7.78-7.78 2.81-2.81c.8-.78.8-2.07 0-2.86zM5.41 20L4 18.59l7.72-7.72 1.47 1.35L5.41 20z\"/>\n",
              "  </svg>\n",
              "      </button>\n",
              "      \n",
              "  <style>\n",
              "    .colab-df-container {\n",
              "      display:flex;\n",
              "      flex-wrap:wrap;\n",
              "      gap: 12px;\n",
              "    }\n",
              "\n",
              "    .colab-df-convert {\n",
              "      background-color: #E8F0FE;\n",
              "      border: none;\n",
              "      border-radius: 50%;\n",
              "      cursor: pointer;\n",
              "      display: none;\n",
              "      fill: #1967D2;\n",
              "      height: 32px;\n",
              "      padding: 0 0 0 0;\n",
              "      width: 32px;\n",
              "    }\n",
              "\n",
              "    .colab-df-convert:hover {\n",
              "      background-color: #E2EBFA;\n",
              "      box-shadow: 0px 1px 2px rgba(60, 64, 67, 0.3), 0px 1px 3px 1px rgba(60, 64, 67, 0.15);\n",
              "      fill: #174EA6;\n",
              "    }\n",
              "\n",
              "    [theme=dark] .colab-df-convert {\n",
              "      background-color: #3B4455;\n",
              "      fill: #D2E3FC;\n",
              "    }\n",
              "\n",
              "    [theme=dark] .colab-df-convert:hover {\n",
              "      background-color: #434B5C;\n",
              "      box-shadow: 0px 1px 3px 1px rgba(0, 0, 0, 0.15);\n",
              "      filter: drop-shadow(0px 1px 2px rgba(0, 0, 0, 0.3));\n",
              "      fill: #FFFFFF;\n",
              "    }\n",
              "  </style>\n",
              "\n",
              "      <script>\n",
              "        const buttonEl =\n",
              "          document.querySelector('#df-77b7fed1-0abf-45a0-9f99-6149d80dd161 button.colab-df-convert');\n",
              "        buttonEl.style.display =\n",
              "          google.colab.kernel.accessAllowed ? 'block' : 'none';\n",
              "\n",
              "        async function convertToInteractive(key) {\n",
              "          const element = document.querySelector('#df-77b7fed1-0abf-45a0-9f99-6149d80dd161');\n",
              "          const dataTable =\n",
              "            await google.colab.kernel.invokeFunction('convertToInteractive',\n",
              "                                                     [key], {});\n",
              "          if (!dataTable) return;\n",
              "\n",
              "          const docLinkHtml = 'Like what you see? Visit the ' +\n",
              "            '<a target=\"_blank\" href=https://colab.research.google.com/notebooks/data_table.ipynb>data table notebook</a>'\n",
              "            + ' to learn more about interactive tables.';\n",
              "          element.innerHTML = '';\n",
              "          dataTable['output_type'] = 'display_data';\n",
              "          await google.colab.output.renderOutput(dataTable, element);\n",
              "          const docLink = document.createElement('div');\n",
              "          docLink.innerHTML = docLinkHtml;\n",
              "          element.appendChild(docLink);\n",
              "        }\n",
              "      </script>\n",
              "    </div>\n",
              "  </div>\n",
              "  "
            ]
          },
          "metadata": {},
          "execution_count": 10
        }
      ]
    },
    {
      "cell_type": "markdown",
      "source": [
        "Agora podemos usar o atributo values para converter o data_dummies DataFrame em um array NumPy e, em seguida, treinar um modelo de aprendizado de máquina nele. Tenha cuidado para separar a variável de destino (que agora está codificada em duas colunas de renda) dos dados antes de treinar um modelo. Incluindo a variável de saída, ou alguma propriedade derivada de a variável de saída, na representação do recurso é um erro muito comum na construção de modelos de aprendizado de máquina supervisionados."
      ],
      "metadata": {
        "id": "fyL4yB-JZlZf"
      }
    },
    {
      "cell_type": "markdown",
      "source": [
        ">Tenha cuidado: a indexação de coluna em pandas inclui o final do intervalo, portanto, 'age':'occupation_ Transport-moving' inclui ocupação_Transport-moving. Isso é diferente de fatiar um array NumPy, onde o final de um intervalo não é incluído: por exemplo, np.arange(11)[0:10] não inclui a entrada com índice 10."
      ],
      "metadata": {
        "id": "zdxAMbsUaDCU"
      }
    },
    {
      "cell_type": "markdown",
      "source": [
        "Nesse caso, extraímos apenas as colunas que contêm recursos, ou seja, todas as colunas de idade a ocupação_ Transporte-movimento. Este intervalo contém todos os recursos, mas não o destino:"
      ],
      "metadata": {
        "id": "2O9Y3EIjabgC"
      }
    },
    {
      "cell_type": "code",
      "source": [
        "features = data_dummies.loc[:, 'age': 'occupation_ Transport-moving']\n",
        "# Extraia matrizes NumPy\n",
        "X = features.values\n",
        "y = data_dummies['income_ >50K'].values\n",
        "print(f\"X.shape: {X.shape}\\ny.shape: {y.shape}\")"
      ],
      "metadata": {
        "colab": {
          "base_uri": "https://localhost:8080/"
        },
        "id": "OoX8I5TDZFME",
        "outputId": "4e64f20e-563e-4224-ce35-2fbd6ecfa0ea"
      },
      "execution_count": 15,
      "outputs": [
        {
          "output_type": "stream",
          "name": "stdout",
          "text": [
            "X.shape: (32561, 44)\n",
            "y.shape: (32561,)\n"
          ]
        }
      ]
    },
    {
      "cell_type": "markdown",
      "source": [
        "Agora os dados são representados de uma maneira que o scikit-learn pode trabalhar e podemos proceder como de costume:"
      ],
      "metadata": {
        "id": "Bp9VF-3WdrDY"
      }
    },
    {
      "cell_type": "code",
      "source": [
        "from sklearn.linear_model import LogisticRegression\n",
        "from sklearn.model_selection import train_test_split"
      ],
      "metadata": {
        "id": "WdhtvErjds2L"
      },
      "execution_count": 16,
      "outputs": []
    },
    {
      "cell_type": "code",
      "source": [
        "X_train, X_test, y_train, y_test = train_test_split(X, y, random_state = 0)\n",
        "logreg = LogisticRegression()\n",
        "logreg.fit(X_train, y_train)\n",
        "print(f\"Test score: {logreg.score(X_test, y_test):.2%}\")"
      ],
      "metadata": {
        "colab": {
          "base_uri": "https://localhost:8080/"
        },
        "id": "5KKxmK9ze2gr",
        "outputId": "5d405e81-efb9-40c5-9e8b-e8470b722c80"
      },
      "execution_count": 22,
      "outputs": [
        {
          "output_type": "stream",
          "name": "stdout",
          "text": [
            "Test score: 80.68%\n"
          ]
        }
      ]
    },
    {
      "cell_type": "markdown",
      "source": [
        ">Neste exemplo, chamamos get_dummies em um DataFrame contendo tanto os dados de treinamento quanto os de teste. Isso é importante para garantir que os valores categóricos sejam representados da mesma maneira no conjunto de treinamento\n",
        "e o conjunto de teste.\n",
        "\n",
        ">Imagine que temos os conjuntos de treinamento e teste em dois conjuntos de dados diferentes. Se o valor \"Private Employee\" para o recurso work class\n",
        "não aparece no conjunto de teste, o pandas assumirá que existe apenas\n",
        "três valores possíveis para este recurso e criará apenas três novos\n",
        "características fictícias. Agora nossos conjuntos de treinamento e teste têm  vários recursos, e não podemos aplicar o modelo que aprendemos o conjunto de treinamento para o conjunto de teste. Pior ainda, imagine que o recurso work class tem os valores \"Government Employee\" e \"Private Employee\" no conjunto de treinamento, e \"Self Employee\" e \"Self Employed Incorporated\" no conjunto de teste. Em ambos os casos, pandas criará dois novos recursos fictícios, então os dados codificados terão o mesmo número de recursos. No entanto, as duas características fictícias têm significados totalmente diferentes no treinamento e conjuntos de teste. A coluna que significa \"Government Employee\" para o conjunto de treinamento codificaria \"Self Employee\" para o conjunto de teste. Se construíssemos um modelo de aprendizado de máquina com esses dados, funcionaria muito mal, porque assumiria que as colunas significam a mesma coisa (porque elas estão na mesma posição) quando na verdade elas significam coisas muito diferentes. Para corrigir isso, chame get_dummies em  DataFrame que contém os pontos de dados de treinamento e teste, ou certifique-se de que os nomes das colunas sejam os mesmos para o treinamento e conjuntos de teste depois de chamar get_dummies, para garantir que eles tenham a mesma semântica."
      ],
      "metadata": {
        "id": "GwR6YbKfgCCz"
      }
    },
    {
      "cell_type": "code",
      "source": [
        ""
      ],
      "metadata": {
        "id": "umfDgVHqiD8A"
      },
      "execution_count": null,
      "outputs": []
    }
  ]
}